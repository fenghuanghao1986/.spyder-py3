{
 "cells": [
  {
   "cell_type": "code",
   "execution_count": 6,
   "metadata": {},
   "outputs": [
    {
     "data": {
      "text/html": [
       "<div>\n",
       "<style scoped>\n",
       "    .dataframe tbody tr th:only-of-type {\n",
       "        vertical-align: middle;\n",
       "    }\n",
       "\n",
       "    .dataframe tbody tr th {\n",
       "        vertical-align: top;\n",
       "    }\n",
       "\n",
       "    .dataframe thead th {\n",
       "        text-align: right;\n",
       "    }\n",
       "</style>\n",
       "<table border=\"1\" class=\"dataframe\">\n",
       "  <thead>\n",
       "    <tr style=\"text-align: right;\">\n",
       "      <th></th>\n",
       "      <th>id</th>\n",
       "      <th>headcirumference</th>\n",
       "      <th>length</th>\n",
       "      <th>Birthweight</th>\n",
       "      <th>Gestation</th>\n",
       "      <th>smoker</th>\n",
       "      <th>motherage</th>\n",
       "      <th>mnocig</th>\n",
       "      <th>mheight</th>\n",
       "      <th>mppwt</th>\n",
       "      <th>fage</th>\n",
       "      <th>fedyrs</th>\n",
       "      <th>fnocig</th>\n",
       "      <th>fheight</th>\n",
       "      <th>lowbwt</th>\n",
       "      <th>mage35</th>\n",
       "      <th>LowBirthWeight</th>\n",
       "    </tr>\n",
       "  </thead>\n",
       "  <tbody>\n",
       "    <tr>\n",
       "      <th>0</th>\n",
       "      <td>1313</td>\n",
       "      <td>12</td>\n",
       "      <td>17</td>\n",
       "      <td>5.8</td>\n",
       "      <td>33</td>\n",
       "      <td>0</td>\n",
       "      <td>24</td>\n",
       "      <td>0</td>\n",
       "      <td>58</td>\n",
       "      <td>99</td>\n",
       "      <td>26</td>\n",
       "      <td>16</td>\n",
       "      <td>0</td>\n",
       "      <td>66</td>\n",
       "      <td>1</td>\n",
       "      <td>0</td>\n",
       "      <td>Low</td>\n",
       "    </tr>\n",
       "    <tr>\n",
       "      <th>1</th>\n",
       "      <td>431</td>\n",
       "      <td>12</td>\n",
       "      <td>19</td>\n",
       "      <td>4.2</td>\n",
       "      <td>33</td>\n",
       "      <td>1</td>\n",
       "      <td>20</td>\n",
       "      <td>7</td>\n",
       "      <td>63</td>\n",
       "      <td>109</td>\n",
       "      <td>20</td>\n",
       "      <td>10</td>\n",
       "      <td>35</td>\n",
       "      <td>71</td>\n",
       "      <td>1</td>\n",
       "      <td>0</td>\n",
       "      <td>Low</td>\n",
       "    </tr>\n",
       "    <tr>\n",
       "      <th>2</th>\n",
       "      <td>808</td>\n",
       "      <td>13</td>\n",
       "      <td>19</td>\n",
       "      <td>6.4</td>\n",
       "      <td>34</td>\n",
       "      <td>0</td>\n",
       "      <td>26</td>\n",
       "      <td>0</td>\n",
       "      <td>65</td>\n",
       "      <td>140</td>\n",
       "      <td>25</td>\n",
       "      <td>12</td>\n",
       "      <td>25</td>\n",
       "      <td>69</td>\n",
       "      <td>0</td>\n",
       "      <td>0</td>\n",
       "      <td>Normal</td>\n",
       "    </tr>\n",
       "    <tr>\n",
       "      <th>3</th>\n",
       "      <td>300</td>\n",
       "      <td>12</td>\n",
       "      <td>18</td>\n",
       "      <td>4.5</td>\n",
       "      <td>35</td>\n",
       "      <td>1</td>\n",
       "      <td>41</td>\n",
       "      <td>7</td>\n",
       "      <td>65</td>\n",
       "      <td>125</td>\n",
       "      <td>37</td>\n",
       "      <td>14</td>\n",
       "      <td>25</td>\n",
       "      <td>68</td>\n",
       "      <td>1</td>\n",
       "      <td>1</td>\n",
       "      <td>Low</td>\n",
       "    </tr>\n",
       "    <tr>\n",
       "      <th>4</th>\n",
       "      <td>516</td>\n",
       "      <td>13</td>\n",
       "      <td>18</td>\n",
       "      <td>5.8</td>\n",
       "      <td>35</td>\n",
       "      <td>1</td>\n",
       "      <td>20</td>\n",
       "      <td>35</td>\n",
       "      <td>67</td>\n",
       "      <td>125</td>\n",
       "      <td>23</td>\n",
       "      <td>12</td>\n",
       "      <td>50</td>\n",
       "      <td>73</td>\n",
       "      <td>1</td>\n",
       "      <td>0</td>\n",
       "      <td>Low</td>\n",
       "    </tr>\n",
       "    <tr>\n",
       "      <th>5</th>\n",
       "      <td>321</td>\n",
       "      <td>13</td>\n",
       "      <td>19</td>\n",
       "      <td>6.8</td>\n",
       "      <td>37</td>\n",
       "      <td>0</td>\n",
       "      <td>28</td>\n",
       "      <td>0</td>\n",
       "      <td>62</td>\n",
       "      <td>118</td>\n",
       "      <td>39</td>\n",
       "      <td>10</td>\n",
       "      <td>0</td>\n",
       "      <td>67</td>\n",
       "      <td>0</td>\n",
       "      <td>0</td>\n",
       "      <td>Normal</td>\n",
       "    </tr>\n",
       "    <tr>\n",
       "      <th>6</th>\n",
       "      <td>1363</td>\n",
       "      <td>12</td>\n",
       "      <td>19</td>\n",
       "      <td>5.2</td>\n",
       "      <td>37</td>\n",
       "      <td>1</td>\n",
       "      <td>20</td>\n",
       "      <td>7</td>\n",
       "      <td>64</td>\n",
       "      <td>104</td>\n",
       "      <td>20</td>\n",
       "      <td>10</td>\n",
       "      <td>35</td>\n",
       "      <td>73</td>\n",
       "      <td>1</td>\n",
       "      <td>0</td>\n",
       "      <td>Low</td>\n",
       "    </tr>\n",
       "    <tr>\n",
       "      <th>7</th>\n",
       "      <td>575</td>\n",
       "      <td>12</td>\n",
       "      <td>19</td>\n",
       "      <td>6.1</td>\n",
       "      <td>37</td>\n",
       "      <td>1</td>\n",
       "      <td>19</td>\n",
       "      <td>7</td>\n",
       "      <td>65</td>\n",
       "      <td>132</td>\n",
       "      <td>20</td>\n",
       "      <td>14</td>\n",
       "      <td>0</td>\n",
       "      <td>72</td>\n",
       "      <td>0</td>\n",
       "      <td>0</td>\n",
       "      <td>Normal</td>\n",
       "    </tr>\n",
       "    <tr>\n",
       "      <th>8</th>\n",
       "      <td>822</td>\n",
       "      <td>13</td>\n",
       "      <td>19</td>\n",
       "      <td>7.5</td>\n",
       "      <td>38</td>\n",
       "      <td>0</td>\n",
       "      <td>20</td>\n",
       "      <td>0</td>\n",
       "      <td>62</td>\n",
       "      <td>103</td>\n",
       "      <td>22</td>\n",
       "      <td>14</td>\n",
       "      <td>0</td>\n",
       "      <td>70</td>\n",
       "      <td>0</td>\n",
       "      <td>0</td>\n",
       "      <td>Normal</td>\n",
       "    </tr>\n",
       "    <tr>\n",
       "      <th>9</th>\n",
       "      <td>1081</td>\n",
       "      <td>14</td>\n",
       "      <td>21</td>\n",
       "      <td>8.0</td>\n",
       "      <td>38</td>\n",
       "      <td>0</td>\n",
       "      <td>18</td>\n",
       "      <td>0</td>\n",
       "      <td>67</td>\n",
       "      <td>109</td>\n",
       "      <td>20</td>\n",
       "      <td>12</td>\n",
       "      <td>7</td>\n",
       "      <td>67</td>\n",
       "      <td>0</td>\n",
       "      <td>0</td>\n",
       "      <td>Normal</td>\n",
       "    </tr>\n",
       "  </tbody>\n",
       "</table>\n",
       "</div>"
      ],
      "text/plain": [
       "     id  headcirumference  length  Birthweight  Gestation  smoker  motherage  \\\n",
       "0  1313                12      17          5.8         33       0         24   \n",
       "1   431                12      19          4.2         33       1         20   \n",
       "2   808                13      19          6.4         34       0         26   \n",
       "3   300                12      18          4.5         35       1         41   \n",
       "4   516                13      18          5.8         35       1         20   \n",
       "5   321                13      19          6.8         37       0         28   \n",
       "6  1363                12      19          5.2         37       1         20   \n",
       "7   575                12      19          6.1         37       1         19   \n",
       "8   822                13      19          7.5         38       0         20   \n",
       "9  1081                14      21          8.0         38       0         18   \n",
       "\n",
       "   mnocig  mheight  mppwt  fage  fedyrs  fnocig  fheight  lowbwt  mage35  \\\n",
       "0       0       58     99    26      16       0       66       1       0   \n",
       "1       7       63    109    20      10      35       71       1       0   \n",
       "2       0       65    140    25      12      25       69       0       0   \n",
       "3       7       65    125    37      14      25       68       1       1   \n",
       "4      35       67    125    23      12      50       73       1       0   \n",
       "5       0       62    118    39      10       0       67       0       0   \n",
       "6       7       64    104    20      10      35       73       1       0   \n",
       "7       7       65    132    20      14       0       72       0       0   \n",
       "8       0       62    103    22      14       0       70       0       0   \n",
       "9       0       67    109    20      12       7       67       0       0   \n",
       "\n",
       "  LowBirthWeight  \n",
       "0            Low  \n",
       "1            Low  \n",
       "2         Normal  \n",
       "3            Low  \n",
       "4            Low  \n",
       "5         Normal  \n",
       "6            Low  \n",
       "7         Normal  \n",
       "8         Normal  \n",
       "9         Normal  "
      ]
     },
     "execution_count": 6,
     "metadata": {},
     "output_type": "execute_result"
    }
   ],
   "source": [
    "import pandas as pd\n",
    "import numpy as np\n",
    "import matplotlib.pyplot as plt\n",
    "from scipy import stats\n",
    "\n",
    "# T-test part\n",
    "\n",
    "# tried this but having error with\n",
    "# certificate verify failed error\n",
    "# so read locial file\n",
    "# url = r\"https://www.sheffield.ac.uk/polopoly_fs/1.536479!/file/birthweight_reduced.csv\"\n",
    "# data = pd.read_csv(url) \n",
    "# data.head(10)\n",
    "\n",
    "# read file and show first 10 rows see if everything is fine\n",
    "weightFile = pd.read_csv('birthweight_reduced.csv')\n",
    "weightFile.head(10)\n"
   ]
  },
  {
   "cell_type": "code",
   "execution_count": 7,
   "metadata": {},
   "outputs": [
    {
     "data": {
      "text/html": [
       "<div>\n",
       "<style scoped>\n",
       "    .dataframe tbody tr th:only-of-type {\n",
       "        vertical-align: middle;\n",
       "    }\n",
       "\n",
       "    .dataframe tbody tr th {\n",
       "        vertical-align: top;\n",
       "    }\n",
       "\n",
       "    .dataframe thead th {\n",
       "        text-align: right;\n",
       "    }\n",
       "</style>\n",
       "<table border=\"1\" class=\"dataframe\">\n",
       "  <thead>\n",
       "    <tr style=\"text-align: right;\">\n",
       "      <th></th>\n",
       "      <th>id</th>\n",
       "      <th>headcirumference</th>\n",
       "      <th>length</th>\n",
       "      <th>Birthweight</th>\n",
       "      <th>Gestation</th>\n",
       "      <th>smoker</th>\n",
       "      <th>motherage</th>\n",
       "      <th>mnocig</th>\n",
       "      <th>mheight</th>\n",
       "      <th>mppwt</th>\n",
       "      <th>fage</th>\n",
       "      <th>fedyrs</th>\n",
       "      <th>fnocig</th>\n",
       "      <th>fheight</th>\n",
       "      <th>lowbwt</th>\n",
       "      <th>mage35</th>\n",
       "    </tr>\n",
       "  </thead>\n",
       "  <tbody>\n",
       "    <tr>\n",
       "      <th>count</th>\n",
       "      <td>42.000000</td>\n",
       "      <td>42.000000</td>\n",
       "      <td>42.000000</td>\n",
       "      <td>42.000000</td>\n",
       "      <td>42.000000</td>\n",
       "      <td>42.000000</td>\n",
       "      <td>42.000000</td>\n",
       "      <td>42.000000</td>\n",
       "      <td>42.000000</td>\n",
       "      <td>42.000000</td>\n",
       "      <td>42.000000</td>\n",
       "      <td>42.000000</td>\n",
       "      <td>42.000000</td>\n",
       "      <td>42.000000</td>\n",
       "      <td>42.000000</td>\n",
       "      <td>42.000000</td>\n",
       "    </tr>\n",
       "    <tr>\n",
       "      <th>mean</th>\n",
       "      <td>894.071429</td>\n",
       "      <td>13.261905</td>\n",
       "      <td>19.928571</td>\n",
       "      <td>7.264286</td>\n",
       "      <td>39.190476</td>\n",
       "      <td>0.523810</td>\n",
       "      <td>25.547619</td>\n",
       "      <td>9.428571</td>\n",
       "      <td>64.404762</td>\n",
       "      <td>125.857143</td>\n",
       "      <td>28.904762</td>\n",
       "      <td>13.666667</td>\n",
       "      <td>17.190476</td>\n",
       "      <td>70.761905</td>\n",
       "      <td>0.142857</td>\n",
       "      <td>0.095238</td>\n",
       "    </tr>\n",
       "    <tr>\n",
       "      <th>std</th>\n",
       "      <td>467.616186</td>\n",
       "      <td>0.766987</td>\n",
       "      <td>1.112958</td>\n",
       "      <td>1.329739</td>\n",
       "      <td>2.643336</td>\n",
       "      <td>0.505487</td>\n",
       "      <td>5.666342</td>\n",
       "      <td>12.511737</td>\n",
       "      <td>2.547687</td>\n",
       "      <td>15.879994</td>\n",
       "      <td>6.863866</td>\n",
       "      <td>2.160247</td>\n",
       "      <td>17.308165</td>\n",
       "      <td>2.843988</td>\n",
       "      <td>0.354169</td>\n",
       "      <td>0.297102</td>\n",
       "    </tr>\n",
       "    <tr>\n",
       "      <th>min</th>\n",
       "      <td>27.000000</td>\n",
       "      <td>12.000000</td>\n",
       "      <td>17.000000</td>\n",
       "      <td>4.200000</td>\n",
       "      <td>33.000000</td>\n",
       "      <td>0.000000</td>\n",
       "      <td>18.000000</td>\n",
       "      <td>0.000000</td>\n",
       "      <td>58.000000</td>\n",
       "      <td>99.000000</td>\n",
       "      <td>19.000000</td>\n",
       "      <td>10.000000</td>\n",
       "      <td>0.000000</td>\n",
       "      <td>66.000000</td>\n",
       "      <td>0.000000</td>\n",
       "      <td>0.000000</td>\n",
       "    </tr>\n",
       "    <tr>\n",
       "      <th>25%</th>\n",
       "      <td>537.250000</td>\n",
       "      <td>13.000000</td>\n",
       "      <td>19.000000</td>\n",
       "      <td>6.450000</td>\n",
       "      <td>38.000000</td>\n",
       "      <td>0.000000</td>\n",
       "      <td>20.250000</td>\n",
       "      <td>0.000000</td>\n",
       "      <td>63.000000</td>\n",
       "      <td>115.000000</td>\n",
       "      <td>23.000000</td>\n",
       "      <td>12.000000</td>\n",
       "      <td>0.000000</td>\n",
       "      <td>69.000000</td>\n",
       "      <td>0.000000</td>\n",
       "      <td>0.000000</td>\n",
       "    </tr>\n",
       "    <tr>\n",
       "      <th>50%</th>\n",
       "      <td>821.000000</td>\n",
       "      <td>13.000000</td>\n",
       "      <td>20.000000</td>\n",
       "      <td>7.250000</td>\n",
       "      <td>39.500000</td>\n",
       "      <td>1.000000</td>\n",
       "      <td>24.000000</td>\n",
       "      <td>4.500000</td>\n",
       "      <td>64.000000</td>\n",
       "      <td>125.000000</td>\n",
       "      <td>29.500000</td>\n",
       "      <td>14.000000</td>\n",
       "      <td>18.500000</td>\n",
       "      <td>71.000000</td>\n",
       "      <td>0.000000</td>\n",
       "      <td>0.000000</td>\n",
       "    </tr>\n",
       "    <tr>\n",
       "      <th>75%</th>\n",
       "      <td>1269.500000</td>\n",
       "      <td>14.000000</td>\n",
       "      <td>21.000000</td>\n",
       "      <td>8.000000</td>\n",
       "      <td>41.000000</td>\n",
       "      <td>1.000000</td>\n",
       "      <td>29.000000</td>\n",
       "      <td>15.750000</td>\n",
       "      <td>66.000000</td>\n",
       "      <td>135.000000</td>\n",
       "      <td>32.000000</td>\n",
       "      <td>16.000000</td>\n",
       "      <td>25.000000</td>\n",
       "      <td>72.000000</td>\n",
       "      <td>0.000000</td>\n",
       "      <td>0.000000</td>\n",
       "    </tr>\n",
       "    <tr>\n",
       "      <th>max</th>\n",
       "      <td>1764.000000</td>\n",
       "      <td>15.000000</td>\n",
       "      <td>22.000000</td>\n",
       "      <td>10.000000</td>\n",
       "      <td>45.000000</td>\n",
       "      <td>1.000000</td>\n",
       "      <td>41.000000</td>\n",
       "      <td>50.000000</td>\n",
       "      <td>71.000000</td>\n",
       "      <td>170.000000</td>\n",
       "      <td>46.000000</td>\n",
       "      <td>16.000000</td>\n",
       "      <td>50.000000</td>\n",
       "      <td>78.000000</td>\n",
       "      <td>1.000000</td>\n",
       "      <td>1.000000</td>\n",
       "    </tr>\n",
       "  </tbody>\n",
       "</table>\n",
       "</div>"
      ],
      "text/plain": [
       "                id  headcirumference     length  Birthweight  Gestation  \\\n",
       "count    42.000000         42.000000  42.000000    42.000000  42.000000   \n",
       "mean    894.071429         13.261905  19.928571     7.264286  39.190476   \n",
       "std     467.616186          0.766987   1.112958     1.329739   2.643336   \n",
       "min      27.000000         12.000000  17.000000     4.200000  33.000000   \n",
       "25%     537.250000         13.000000  19.000000     6.450000  38.000000   \n",
       "50%     821.000000         13.000000  20.000000     7.250000  39.500000   \n",
       "75%    1269.500000         14.000000  21.000000     8.000000  41.000000   \n",
       "max    1764.000000         15.000000  22.000000    10.000000  45.000000   \n",
       "\n",
       "          smoker  motherage     mnocig    mheight       mppwt       fage  \\\n",
       "count  42.000000  42.000000  42.000000  42.000000   42.000000  42.000000   \n",
       "mean    0.523810  25.547619   9.428571  64.404762  125.857143  28.904762   \n",
       "std     0.505487   5.666342  12.511737   2.547687   15.879994   6.863866   \n",
       "min     0.000000  18.000000   0.000000  58.000000   99.000000  19.000000   \n",
       "25%     0.000000  20.250000   0.000000  63.000000  115.000000  23.000000   \n",
       "50%     1.000000  24.000000   4.500000  64.000000  125.000000  29.500000   \n",
       "75%     1.000000  29.000000  15.750000  66.000000  135.000000  32.000000   \n",
       "max     1.000000  41.000000  50.000000  71.000000  170.000000  46.000000   \n",
       "\n",
       "          fedyrs     fnocig    fheight     lowbwt     mage35  \n",
       "count  42.000000  42.000000  42.000000  42.000000  42.000000  \n",
       "mean   13.666667  17.190476  70.761905   0.142857   0.095238  \n",
       "std     2.160247  17.308165   2.843988   0.354169   0.297102  \n",
       "min    10.000000   0.000000  66.000000   0.000000   0.000000  \n",
       "25%    12.000000   0.000000  69.000000   0.000000   0.000000  \n",
       "50%    14.000000  18.500000  71.000000   0.000000   0.000000  \n",
       "75%    16.000000  25.000000  72.000000   0.000000   0.000000  \n",
       "max    16.000000  50.000000  78.000000   1.000000   1.000000  "
      ]
     },
     "execution_count": 7,
     "metadata": {},
     "output_type": "execute_result"
    }
   ],
   "source": [
    "# do statistic analysis\n",
    "weightFile.describe()"
   ]
  },
  {
   "cell_type": "code",
   "execution_count": 8,
   "metadata": {},
   "outputs": [
    {
     "data": {
      "text/html": [
       "<div>\n",
       "<style scoped>\n",
       "    .dataframe tbody tr th:only-of-type {\n",
       "        vertical-align: middle;\n",
       "    }\n",
       "\n",
       "    .dataframe tbody tr th {\n",
       "        vertical-align: top;\n",
       "    }\n",
       "\n",
       "    .dataframe thead th {\n",
       "        text-align: right;\n",
       "    }\n",
       "</style>\n",
       "<table border=\"1\" class=\"dataframe\">\n",
       "  <thead>\n",
       "    <tr style=\"text-align: right;\">\n",
       "      <th></th>\n",
       "      <th>Birthweight</th>\n",
       "    </tr>\n",
       "    <tr>\n",
       "      <th>LowBirthWeight</th>\n",
       "      <th></th>\n",
       "    </tr>\n",
       "  </thead>\n",
       "  <tbody>\n",
       "    <tr>\n",
       "      <th>Low</th>\n",
       "      <td>5.166667</td>\n",
       "    </tr>\n",
       "    <tr>\n",
       "      <th>Normal</th>\n",
       "      <td>7.613889</td>\n",
       "    </tr>\n",
       "  </tbody>\n",
       "</table>\n",
       "</div>"
      ],
      "text/plain": [
       "                Birthweight\n",
       "LowBirthWeight             \n",
       "Low                5.166667\n",
       "Normal             7.613889"
      ]
     },
     "execution_count": 8,
     "metadata": {},
     "output_type": "execute_result"
    }
   ],
   "source": [
    "# research question: what's the difference between low and normal weight?\n",
    "# extract weight for low and normal\n",
    "lowweight = weightFile.Birthweight[weightFile.LowBirthWeight==\"Low\"]\n",
    "norweight = weightFile.Birthweight[weightFile.LowBirthWeight==\"Normal\"]\n",
    "\n",
    "# compute the mean of weight for both status\n",
    "weightFile[[\"Birthweight\", \"LowBirthWeight\"]].groupby(\"LowBirthWeight\").mean()\n"
   ]
  },
  {
   "cell_type": "code",
   "execution_count": 9,
   "metadata": {},
   "outputs": [
    {
     "data": {
      "image/png": "[encoded data removed]",
      "text/plain": [
       "<matplotlib.figure.Figure at 0x229c6a084a8>"
      ]
     },
     "metadata": {},
     "output_type": "display_data"
    },
    {
     "data": {
      "image/png": "[encoded data removed]",
      "text/plain": [
       "<matplotlib.figure.Figure at 0x229c6d53e48>"
      ]
     },
     "metadata": {},
     "output_type": "display_data"
    }
   ],
   "source": [
    "# visualize the distribution of low and normal weight\n",
    "# histogram\n",
    "plt.hist(lowweight, bins = 30)\n",
    "plt.title(\"Histogram of low weight\")\n",
    "plt.xlabel(\"weight\")\n",
    "plt.ylabel(\"Frequency\")\n",
    "plt.show()\n",
    "\n",
    "plt.hist(norweight, bins = 30)\n",
    "plt.title(\"Histogram of normal weight\")\n",
    "plt.xlabel(\"weight\")\n",
    "plt.ylabel(\"Frequency\")\n",
    "plt.show()"
   ]
  },
  {
   "cell_type": "code",
   "execution_count": 10,
   "metadata": {},
   "outputs": [
    {
     "data": {
      "image/png": "[encoded data removed]",
      "text/plain": [
       "<matplotlib.figure.Figure at 0x229c6a080f0>"
      ]
     },
     "metadata": {},
     "output_type": "display_data"
    }
   ],
   "source": [
    "# boxplot\n",
    "weightFile[[\"Birthweight\", \"LowBirthWeight\"]].boxplot(by=\"LowBirthWeight\", fontsize=14) # regular pandas boxplot \n",
    "plt.suptitle(\"\")\n",
    "plt.title(\"A boxplot of low and normal weight\")\n",
    "plt.show()"
   ]
  },
  {
   "cell_type": "code",
   "execution_count": 11,
   "metadata": {},
   "outputs": [
    {
     "name": "stdout",
     "output_type": "stream",
     "text": [
      "This is a hypothesis test for the homogeneity of variance assumption\n",
      "H0:The variances of low and normal weight are equal\n",
      "test statistics: 1.2669198389685288\n",
      "pvalue: 0.26705370102796117\n",
      "Decision: Fail to reject the null hypothesis\n",
      "Conclusion: The variances of low and normal weight are equal\n",
      "Proceed to perform a t-test\n"
     ]
    }
   ],
   "source": [
    "# levene's test \n",
    "teststats_Var, pvalue_Var = stats.levene(lowweight, norweight)\n",
    "print(\"This is a hypothesis test for the homogeneity of variance assumption\")\n",
    "print(\"H0:The variances of low and normal weight are equal\")\n",
    "print (f\"test statistics: {teststats_Var}\")\n",
    "print(f\"pvalue: {pvalue_Var}\")\n",
    "\n",
    "alpha = 0.05\n",
    "if pvalue_Var > alpha:\n",
    "    print(\"Decision: Fail to reject the null hypothesis\")\n",
    "    print(\"Conclusion: The variances of low and normal weight are equal\")\n",
    "    print(\"Proceed to perform a t-test\")\n",
    "else:\n",
    "    print(\"Decision: Reject the null hypothesis\")\n",
    "    print(\"Conclusion: The variances of low and normal weight are unequal\")\n",
    "    print(\"Proceed to do a Welch's test since variances are unequal\")\n"
   ]
  },
  {
   "cell_type": "code",
   "execution_count": 12,
   "metadata": {},
   "outputs": [
    {
     "name": "stdout",
     "output_type": "stream",
     "text": [
      "T Test: This is a hypothesis test for means of male and female faculty salary\n",
      "H0: Means of low and normal are equal\n",
      "test statistics (t): -5.435711661123188\n",
      "pvalue: 2.9285639997008615e-06\n",
      "Decision: Reject the null hypothesis\n",
      "Conclusion: Means of low and normal weight are unequal\n"
     ]
    }
   ],
   "source": [
    "# t-test\n",
    "teststats_Mean, pvalue_Mean= stats.ttest_ind(lowweight, norweight, equal_var=True)\n",
    "\n",
    "print(\"T Test: This is a hypothesis test for means of male and female faculty salary\")\n",
    "print(\"H0: Means of low and normal are equal\")\n",
    "print (f\"test statistics (t): {teststats_Mean}\")\n",
    "print(f\"pvalue: {pvalue_Mean}\")\n",
    "\n",
    "alpha = 0.05\n",
    "if pvalue_Mean > alpha:\n",
    "    print(\"Decision: Fail to reject the null hypothesis\")\n",
    "    print(\"Conclusion: Means of low and normal weight are equal\")\n",
    "else:\n",
    "    print(\"Decision: Reject the null hypothesis\")\n",
    "    print(\"Conclusion: Means of low and normal weight are unequal\")\n"
   ]
  },
  {
   "cell_type": "code",
   "execution_count": 13,
   "metadata": {},
   "outputs": [
    {
     "data": {
      "text/plain": [
       "array([12, 13, 14, 15], dtype=int64)"
      ]
     },
     "execution_count": 13,
     "metadata": {},
     "output_type": "execute_result"
    }
   ],
   "source": [
    "# ANOVA test part\n",
    "    \n",
    "# research question: it there a significant birthweight difference\n",
    "# between different headcirumference\n",
    "\n",
    "weightFile[\"headcirumference\"].unique()"
   ]
  },
  {
   "cell_type": "code",
   "execution_count": 14,
   "metadata": {},
   "outputs": [],
   "source": [
    "# extract weight for different headcirumference\n",
    "twelve = weightFile[\"Birthweight\"][weightFile[\"headcirumference\"]==12]\n",
    "thirteen = weightFile[\"Birthweight\"][weightFile[\"headcirumference\"]==13]\n",
    "fourteen = weightFile[\"Birthweight\"][weightFile[\"headcirumference\"]==14]\n",
    "fifteen = weightFile[\"Birthweight\"][weightFile[\"headcirumference\"]==15]\n"
   ]
  },
  {
   "cell_type": "code",
   "execution_count": 15,
   "metadata": {},
   "outputs": [
    {
     "data": {
      "image/png": "[encoded data removed]",
      "text/plain": [
       "<matplotlib.figure.Figure at 0x229c50a8668>"
      ]
     },
     "metadata": {},
     "output_type": "display_data"
    },
    {
     "data": {
      "image/png": "[encoded data removed]",
      "text/plain": [
       "<matplotlib.figure.Figure at 0x229c50a8518>"
      ]
     },
     "metadata": {},
     "output_type": "display_data"
    },
    {
     "data": {
      "image/png": "[encoded data removed]",
      "text/plain": [
       "<matplotlib.figure.Figure at 0x229c6d9f6a0>"
      ]
     },
     "metadata": {},
     "output_type": "display_data"
    },
    {
     "data": {
      "image/png": "[encoded data removed]",
      "text/plain": [
       "<matplotlib.figure.Figure at 0x229c70494e0>"
      ]
     },
     "metadata": {},
     "output_type": "display_data"
    }
   ],
   "source": [
    "# visualize distribution of weight by headcirumference\n",
    "plt.hist(twelve, bins = 30)\n",
    "plt.title(\"Histogram of headsize of 12 for weight\")\n",
    "plt.xlabel(\"Salary\")\n",
    "plt.ylabel(\"Frequency\")\n",
    "plt.show()\n",
    "\n",
    "plt.hist(thirteen, bins = 30)\n",
    "plt.title(\"Histogram of headsize of 13 for weight\")\n",
    "plt.xlabel(\"Salary\")\n",
    "plt.ylabel(\"Frequency\")\n",
    "plt.show()\n",
    "\n",
    "plt.hist(fourteen, bins = 30)\n",
    "plt.title(\"Histogram of headsize of 14 for weight\")\n",
    "plt.xlabel(\"Salary\")\n",
    "plt.ylabel(\"Frequency\")\n",
    "plt.show()\n",
    "\n",
    "plt.hist(fifteen, bins = 30)\n",
    "plt.title(\"Histogram of headsize of 15 for weight\")\n",
    "plt.xlabel(\"Salary\")\n",
    "plt.ylabel(\"Frequency\")\n",
    "plt.show()"
   ]
  },
  {
   "cell_type": "code",
   "execution_count": 16,
   "metadata": {},
   "outputs": [
    {
     "data": {
      "text/html": [
       "<div>\n",
       "<style scoped>\n",
       "    .dataframe tbody tr th:only-of-type {\n",
       "        vertical-align: middle;\n",
       "    }\n",
       "\n",
       "    .dataframe tbody tr th {\n",
       "        vertical-align: top;\n",
       "    }\n",
       "\n",
       "    .dataframe thead tr th {\n",
       "        text-align: left;\n",
       "    }\n",
       "\n",
       "    .dataframe thead tr:last-of-type th {\n",
       "        text-align: right;\n",
       "    }\n",
       "</style>\n",
       "<table border=\"1\" class=\"dataframe\">\n",
       "  <thead>\n",
       "    <tr>\n",
       "      <th></th>\n",
       "      <th colspan=\"7\" halign=\"left\">Birthweight</th>\n",
       "    </tr>\n",
       "    <tr>\n",
       "      <th></th>\n",
       "      <th>count</th>\n",
       "      <th>mean</th>\n",
       "      <th>median</th>\n",
       "      <th>std</th>\n",
       "      <th>min</th>\n",
       "      <th>max</th>\n",
       "      <th>skew</th>\n",
       "    </tr>\n",
       "    <tr>\n",
       "      <th>headcirumference</th>\n",
       "      <th></th>\n",
       "      <th></th>\n",
       "      <th></th>\n",
       "      <th></th>\n",
       "      <th></th>\n",
       "      <th></th>\n",
       "      <th></th>\n",
       "    </tr>\n",
       "  </thead>\n",
       "  <tbody>\n",
       "    <tr>\n",
       "      <th>12</th>\n",
       "      <td>6</td>\n",
       "      <td>5.30</td>\n",
       "      <td>5.5</td>\n",
       "      <td>0.80</td>\n",
       "      <td>4.2</td>\n",
       "      <td>6.1</td>\n",
       "      <td>-0.50</td>\n",
       "    </tr>\n",
       "    <tr>\n",
       "      <th>13</th>\n",
       "      <td>21</td>\n",
       "      <td>7.13</td>\n",
       "      <td>7.0</td>\n",
       "      <td>1.02</td>\n",
       "      <td>5.5</td>\n",
       "      <td>10.0</td>\n",
       "      <td>1.00</td>\n",
       "    </tr>\n",
       "    <tr>\n",
       "      <th>14</th>\n",
       "      <td>13</td>\n",
       "      <td>8.04</td>\n",
       "      <td>8.0</td>\n",
       "      <td>0.74</td>\n",
       "      <td>7.1</td>\n",
       "      <td>9.5</td>\n",
       "      <td>0.47</td>\n",
       "    </tr>\n",
       "    <tr>\n",
       "      <th>15</th>\n",
       "      <td>2</td>\n",
       "      <td>9.50</td>\n",
       "      <td>9.5</td>\n",
       "      <td>0.71</td>\n",
       "      <td>9.0</td>\n",
       "      <td>10.0</td>\n",
       "      <td>NaN</td>\n",
       "    </tr>\n",
       "  </tbody>\n",
       "</table>\n",
       "</div>"
      ],
      "text/plain": [
       "                 Birthweight                                    \n",
       "                       count  mean median   std  min   max  skew\n",
       "headcirumference                                                \n",
       "12                         6  5.30    5.5  0.80  4.2   6.1 -0.50\n",
       "13                        21  7.13    7.0  1.02  5.5  10.0  1.00\n",
       "14                        13  8.04    8.0  0.74  7.1   9.5  0.47\n",
       "15                         2  9.50    9.5  0.71  9.0  10.0   NaN"
      ]
     },
     "execution_count": 16,
     "metadata": {},
     "output_type": "execute_result"
    }
   ],
   "source": [
    "# compute the descritives of all\n",
    "weightFile[[\"Birthweight\", \"headcirumference\"]].groupby(\"headcirumference\").agg([\"count\", \"mean\", \"median\", \"std\",\"min\", \"max\",\"skew\"]).round(2)\n"
   ]
  },
  {
   "cell_type": "code",
   "execution_count": 17,
   "metadata": {},
   "outputs": [
    {
     "data": {
      "image/png": "[encoded data removed]",
      "text/plain": [
       "<matplotlib.figure.Figure at 0x229c6ec2e80>"
      ]
     },
     "metadata": {},
     "output_type": "display_data"
    }
   ],
   "source": [
    "# box-plot\n",
    "y = twelve.values, thirteen.values, fourteen.values, fifteen.values \n",
    "plt.boxplot(y)\n",
    "plt.title(\"A Boxplot of Faculty Salaries by Rank\")\n",
    "plt.ylabel(\"Salary\")\n",
    "plt.xticks(np.arange(len(y))+1, [\"12\", \"13\", \"14\", \"15\"] )\n",
    "plt.show()\n"
   ]
  },
  {
   "cell_type": "code",
   "execution_count": 18,
   "metadata": {},
   "outputs": [
    {
     "name": "stdout",
     "output_type": "stream",
     "text": [
      "This is a hypothesis test for the homogeneity of variance assumption\n",
      "H0: variances of difference headsize weight are equal variances\n",
      "test statistics (F): 0.18928387688453469\n",
      "pvalue: 0.9030430309074826\n",
      "Decision: Fail to reject the null hypothesis\n",
      "Conclusion: The variances of difference headcirumference weight are equal\n",
      "Proceed to perform an ANOVA test\n"
     ]
    }
   ],
   "source": [
    "# levene's test\n",
    "teststats_Var, pvalue_Var = stats.levene(twelve.values, thirteen.values, fourteen.values, fifteen.values)\n",
    "\n",
    "print(\"This is a hypothesis test for the homogeneity of variance assumption\")\n",
    "print(\"H0: variances of difference headsize weight are equal variances\")\n",
    "print (f\"test statistics (F): {teststats_Var}\")\n",
    "print(f\"pvalue: {pvalue_Var}\")\n",
    "\n",
    "alpha = 0.05\n",
    "if pvalue_Var > alpha:\n",
    "    print(\"Decision: Fail to reject the null hypothesis\")\n",
    "    print(\"Conclusion: The variances of difference headcirumference weight are equal\")\n",
    "    print(\"Proceed to perform an ANOVA test\")\n",
    "else:\n",
    "    print(\"Decision: Reject the null hypothesis\")\n",
    "    print(\"Conclusion: At least the variance of one headsize differs with respect to weight\")\n",
    "    print(\"Still proceed to perform ANOVA test since the F-test is robust to the homogeneity of variance assumption\")\n"
   ]
  },
  {
   "cell_type": "code",
   "execution_count": 19,
   "metadata": {},
   "outputs": [
    {
     "name": "stdout",
     "output_type": "stream",
     "text": [
      "One-Way ANOVA: This is a hypothesis test for means of faculty salary by rank \n",
      "H0: The means of difference headcirumference weight are equal\n",
      "test statistics (F): 0.18928387688453469\n",
      "pvalue: 0.9030430309074826\n",
      "Decision: Fail to reject the null hypothesis\n",
      "Conclusion: The means of difference headcirumference weight are equal\n"
     ]
    }
   ],
   "source": [
    "# ANOVA TEST\n",
    "teststats_Mean, pvalue_Mean = stats.f_oneway(twelve.values, thirteen.values, fourteen.values, fifteen.values)\n",
    "\n",
    "print(\"One-Way ANOVA: This is a hypothesis test for means of faculty salary by rank \")\n",
    "print(\"H0: The means of difference headcirumference weight are equal\")\n",
    "print (f\"test statistics (F): {teststats_Var}\")\n",
    "print(f\"pvalue: {pvalue_Var}\")\n",
    "\n",
    "alpha = 0.05\n",
    "if pvalue_Var > alpha:\n",
    "    print(\"Decision: Fail to reject the null hypothesis\")\n",
    "    print(\"Conclusion: The means of difference headcirumference weight are equal\")\n",
    "else:\n",
    "    print(\"Decision: Reject the null hypothesis\")\n",
    "    print(\"Conclusion: The mean weight of at least one head size is different\")\n",
    "    print(\"proceed with a follow-up or post hoc test to find which groups are different\")\n"
   ]
  },
  {
   "cell_type": "code",
   "execution_count": 21,
   "metadata": {},
   "outputs": [
    {
     "name": "stdout",
     "output_type": "stream",
     "text": [
      "                            OLS Regression Results                            \n",
      "==============================================================================\n",
      "Dep. Variable:                      y   R-squared:                       0.000\n",
      "Model:                            OLS   Adj. R-squared:                 -0.025\n",
      "Method:                 Least Squares   F-statistic:                 4.330e-05\n",
      "Date:                Sat, 02 Jun 2018   Prob (F-statistic):              0.995\n",
      "Time:                        01:11:47   Log-Likelihood:                -71.059\n",
      "No. Observations:                  42   AIC:                             146.1\n",
      "Df Residuals:                      40   BIC:                             149.6\n",
      "Df Model:                           1                                         \n",
      "Covariance Type:            nonrobust                                         \n",
      "==============================================================================\n",
      "                 coef    std err          t      P>|t|      [0.025      0.975]\n",
      "------------------------------------------------------------------------------\n",
      "Intercept      7.2580      0.970      7.479      0.000       5.297       9.219\n",
      "x              0.0002      0.037      0.007      0.995      -0.075       0.075\n",
      "==============================================================================\n",
      "Omnibus:                        0.087   Durbin-Watson:                   1.259\n",
      "Prob(Omnibus):                  0.958   Jarque-Bera (JB):                0.052\n",
      "Skew:                          -0.057   Prob(JB):                        0.974\n",
      "Kurtosis:                       2.870   Cond. No.                         122.\n",
      "==============================================================================\n",
      "\n",
      "Warnings:\n",
      "[1] Standard Errors assume that the covariance matrix of the errors is correctly specified.\n"
     ]
    }
   ],
   "source": [
    "# Regression part\n",
    "    \n",
    "from scipy.stats import stats\n",
    "\n",
    "from statsmodels.formula.api import ols\n",
    "# model 1 \n",
    "\n",
    "x = weightFile[[\"motherage\"]]\n",
    "y = weightFile[\"Birthweight\"]\n",
    "\n",
    "model1 = ols(\"y ~ x\", data=weightFile).fit()\n",
    "print(model1.summary())"
   ]
  },
  {
   "cell_type": "code",
   "execution_count": 25,
   "metadata": {},
   "outputs": [
    {
     "data": {
      "text/plain": [
       "Intercept    7.258048\n",
       "x            0.000244\n",
       "dtype: float64"
      ]
     },
     "execution_count": 25,
     "metadata": {},
     "output_type": "execute_result"
    }
   ],
   "source": [
    "model1.params\n"
   ]
  },
  {
   "cell_type": "code",
   "execution_count": 26,
   "metadata": {},
   "outputs": [
    {
     "data": {
      "text/plain": [
       "Intercept    4.070702e-09\n",
       "x            9.947822e-01\n",
       "dtype: float64"
      ]
     },
     "execution_count": 26,
     "metadata": {},
     "output_type": "execute_result"
    }
   ],
   "source": [
    "model1.pvalues\n"
   ]
  },
  {
   "cell_type": "code",
   "execution_count": 27,
   "metadata": {},
   "outputs": [
    {
     "data": {
      "text/plain": [
       "1.0825872285291638e-06"
      ]
     },
     "execution_count": 27,
     "metadata": {},
     "output_type": "execute_result"
    }
   ],
   "source": [
    "model1.rsquared"
   ]
  },
  {
   "cell_type": "code",
   "execution_count": 28,
   "metadata": {},
   "outputs": [
    {
     "data": {
      "image/png": "[encoded data removed]",
      "text/plain": [
       "<matplotlib.figure.Figure at 0x229c7065748>"
      ]
     },
     "metadata": {},
     "output_type": "display_data"
    }
   ],
   "source": [
    "# let's evaluate our model \n",
    "# 1. scatter plot of x-values vs residuals\n",
    "resid = model1.resid\n",
    "plt.scatter(x, resid)\n",
    "plt.hlines(0, 0, 60, color = \"red\")\n",
    "plt.title(\"Residual vs mother age Plot\")\n",
    "plt.xlabel(\"mother age\")\n",
    "plt.ylabel(\"Residuals\")\n",
    "plt.show()"
   ]
  },
  {
   "cell_type": "code",
   "execution_count": 29,
   "metadata": {},
   "outputs": [
    {
     "data": {
      "image/png": "[encoded data removed]",
      "text/plain": [
       "<matplotlib.figure.Figure at 0x229c7039dd8>"
      ]
     },
     "metadata": {},
     "output_type": "display_data"
    }
   ],
   "source": [
    "# let's evaluate our model \n",
    "# 1. scatter plot of predicted y-values versus y\n",
    "# plot should be along the diagonals, that indicates a good model \n",
    "# the close the plot to the diagonal the more accurate the predicted values. \n",
    "pred_y = model1.predict()\n",
    "plt.scatter(y, pred_y)\n",
    "plt.title(\"Residual vs Birthweight Plot\")\n",
    "Max = y.max()\n",
    "Min = y.min()\n",
    "diag = np.arange(Min, Max, (Max-Min)/50)\n",
    "plt.scatter(diag, diag)\n",
    "plt.xlabel(\"Birthweight\")\n",
    "plt.ylabel(\"Predicted Birghweight\")\n",
    "plt.show()"
   ]
  },
  {
   "cell_type": "code",
   "execution_count": 30,
   "metadata": {},
   "outputs": [
    {
     "name": "stdout",
     "output_type": "stream",
     "text": [
      "                            OLS Regression Results                            \n",
      "==============================================================================\n",
      "Dep. Variable:                      y   R-squared:                       0.152\n",
      "Model:                            OLS   Adj. R-squared:                  0.131\n",
      "Method:                 Least Squares   F-statistic:                     7.157\n",
      "Date:                Sat, 02 Jun 2018   Prob (F-statistic):             0.0108\n",
      "Time:                        01:12:54   Log-Likelihood:                -67.602\n",
      "No. Observations:                  42   AIC:                             139.2\n",
      "Df Residuals:                      40   BIC:                             142.7\n",
      "Df Model:                           1                                         \n",
      "Covariance Type:            nonrobust                                         \n",
      "==============================================================================\n",
      "                 coef    std err          t      P>|t|      [0.025      0.975]\n",
      "------------------------------------------------------------------------------\n",
      "Intercept      3.1585      1.547      2.042      0.048       0.033       6.284\n",
      "x              0.0326      0.012      2.675      0.011       0.008       0.057\n",
      "==============================================================================\n",
      "Omnibus:                        0.068   Durbin-Watson:                   1.168\n",
      "Prob(Omnibus):                  0.966   Jarque-Bera (JB):                0.267\n",
      "Skew:                          -0.041   Prob(JB):                        0.875\n",
      "Kurtosis:                       2.618   Cond. No.                     1.03e+03\n",
      "==============================================================================\n",
      "\n",
      "Warnings:\n",
      "[1] Standard Errors assume that the covariance matrix of the errors is correctly specified.\n",
      "[2] The condition number is large, 1.03e+03. This might indicate that there are\n",
      "strong multicollinearity or other numerical problems.\n"
     ]
    }
   ],
   "source": [
    "# model 2\n",
    "x = weightFile[[\"mppwt\"]]\n",
    "y = weightFile[\"Birthweight\"]\n",
    "\n",
    "model2 = ols(\"y ~ x\", data=weightFile).fit()\n",
    "print(model2.summary())"
   ]
  },
  {
   "cell_type": "code",
   "execution_count": 31,
   "metadata": {},
   "outputs": [
    {
     "data": {
      "text/plain": [
       "Intercept    3.158547\n",
       "x            0.032622\n",
       "dtype: float64"
      ]
     },
     "execution_count": 31,
     "metadata": {},
     "output_type": "execute_result"
    }
   ],
   "source": [
    "model2.params"
   ]
  },
  {
   "cell_type": "code",
   "execution_count": 32,
   "metadata": {},
   "outputs": [
    {
     "data": {
      "text/plain": [
       "Intercept    0.047753\n",
       "x            0.010765\n",
       "dtype: float64"
      ]
     },
     "execution_count": 32,
     "metadata": {},
     "output_type": "execute_result"
    }
   ],
   "source": [
    "model2.pvalues\n"
   ]
  },
  {
   "cell_type": "code",
   "execution_count": 33,
   "metadata": {},
   "outputs": [
    {
     "data": {
      "text/plain": [
       "0.15177307940026386"
      ]
     },
     "execution_count": 33,
     "metadata": {},
     "output_type": "execute_result"
    }
   ],
   "source": [
    "model2.rsquared\n"
   ]
  },
  {
   "cell_type": "code",
   "execution_count": 34,
   "metadata": {},
   "outputs": [
    {
     "data": {
      "image/png": "[encoded data removed]",
      "text/plain": [
       "<matplotlib.figure.Figure at 0x229c6f01978>"
      ]
     },
     "metadata": {},
     "output_type": "display_data"
    }
   ],
   "source": [
    "# let's evaluate our model \n",
    "# 1. scatter plot of x-values vs residuals\n",
    "resid = model2.resid\n",
    "plt.scatter(x, resid)\n",
    "plt.hlines(0, 0, 60, color = \"red\")\n",
    "plt.title(\"Residual vs mppwt Plot\")\n",
    "plt.xlabel(\"mppwt\")\n",
    "plt.ylabel(\"Residual\")\n",
    "plt.show()"
   ]
  },
  {
   "cell_type": "code",
   "execution_count": 35,
   "metadata": {},
   "outputs": [
    {
     "data": {
      "image/png": "[encoded data removed]",
      "text/plain": [
       "<matplotlib.figure.Figure at 0x229c6f5d0f0>"
      ]
     },
     "metadata": {},
     "output_type": "display_data"
    }
   ],
   "source": [
    "# let's evaluate our model \n",
    "# 1. scatter plot of predicted y-values versus y\n",
    "# plot should be along the diagonals, that indicates a good model \n",
    "# the close the plot to the diagonal the more accurate the predicted values. \n",
    "pred_y = model2.predict()\n",
    "plt.scatter(y, pred_y)\n",
    "plt.title(\"Residual vs Birthweight Plot\")\n",
    "Max = y.max()\n",
    "Min = y.min()\n",
    "diag = np.arange(Min, Max, (Max-Min)/50)\n",
    "plt.scatter(diag, diag)\n",
    "plt.xlabel(\"Birthweight\")\n",
    "plt.ylabel(\"Predicted Birthweight\")\n",
    "plt.show()"
   ]
  },
  {
   "cell_type": "code",
   "execution_count": 36,
   "metadata": {},
   "outputs": [
    {
     "name": "stdout",
     "output_type": "stream",
     "text": [
      "                            OLS Regression Results                            \n",
      "==============================================================================\n",
      "Dep. Variable:                      y   R-squared:                       0.031\n",
      "Model:                            OLS   Adj. R-squared:                  0.007\n",
      "Method:                 Least Squares   F-statistic:                     1.291\n",
      "Date:                Sat, 02 Jun 2018   Prob (F-statistic):              0.263\n",
      "Time:                        01:13:55   Log-Likelihood:                -70.392\n",
      "No. Observations:                  42   AIC:                             144.8\n",
      "Df Residuals:                      40   BIC:                             148.3\n",
      "Df Model:                           1                                         \n",
      "Covariance Type:            nonrobust                                         \n",
      "==============================================================================\n",
      "                 coef    std err          t      P>|t|      [0.025      0.975]\n",
      "------------------------------------------------------------------------------\n",
      "Intercept      6.2743      0.895      7.010      0.000       4.465       8.083\n",
      "x              0.0342      0.030      1.136      0.263      -0.027       0.095\n",
      "==============================================================================\n",
      "Omnibus:                        0.278   Durbin-Watson:                   1.223\n",
      "Prob(Omnibus):                  0.870   Jarque-Bera (JB):                0.043\n",
      "Skew:                           0.078   Prob(JB):                        0.979\n",
      "Kurtosis:                       3.014   Cond. No.                         130.\n",
      "==============================================================================\n",
      "\n",
      "Warnings:\n",
      "[1] Standard Errors assume that the covariance matrix of the errors is correctly specified.\n"
     ]
    }
   ],
   "source": [
    "# model 3\n",
    "\n",
    "x = weightFile[[\"fage\"]]\n",
    "y = weightFile[\"Birthweight\"]\n",
    "\n",
    "model3 = ols(\"y ~ x\", data=weightFile).fit()\n",
    "print(model3.summary())"
   ]
  },
  {
   "cell_type": "code",
   "execution_count": 37,
   "metadata": {},
   "outputs": [
    {
     "data": {
      "text/plain": [
       "Intercept    6.27431\n",
       "x            0.03425\n",
       "dtype: float64"
      ]
     },
     "execution_count": 37,
     "metadata": {},
     "output_type": "execute_result"
    }
   ],
   "source": [
    "model3.params"
   ]
  },
  {
   "cell_type": "code",
   "execution_count": 38,
   "metadata": {},
   "outputs": [
    {
     "data": {
      "text/plain": [
       "Intercept    1.819109e-08\n",
       "x            2.627123e-01\n",
       "dtype: float64"
      ]
     },
     "execution_count": 38,
     "metadata": {},
     "output_type": "execute_result"
    }
   ],
   "source": [
    "model3.pvalues\n"
   ]
  },
  {
   "cell_type": "code",
   "execution_count": 39,
   "metadata": {},
   "outputs": [
    {
     "data": {
      "text/plain": [
       "0.031254704013087276"
      ]
     },
     "execution_count": 39,
     "metadata": {},
     "output_type": "execute_result"
    }
   ],
   "source": [
    "model3.rsquared\n"
   ]
  },
  {
   "cell_type": "code",
   "execution_count": 40,
   "metadata": {},
   "outputs": [
    {
     "data": {
      "image/png": "[encoded data removed]",
      "text/plain": [
       "<matplotlib.figure.Figure at 0x229c764aa58>"
      ]
     },
     "metadata": {},
     "output_type": "display_data"
    }
   ],
   "source": [
    "# let's evaluate our model \n",
    "# 1. scatter plot of x-values vs residuals\n",
    "resid = model3.resid\n",
    "plt.scatter(x, resid)\n",
    "plt.hlines(0, 0, 60, color = \"red\")\n",
    "plt.title(\"Residual vs farther age Plot\")\n",
    "plt.xlabel(\"Farther age\")\n",
    "plt.ylabel(\"Residuals\")\n",
    "plt.show()"
   ]
  },
  {
   "cell_type": "code",
   "execution_count": 41,
   "metadata": {},
   "outputs": [
    {
     "data": {
      "image/png": "[encoded data removed]",
      "text/plain": [
       "<matplotlib.figure.Figure at 0x229c76d8390>"
      ]
     },
     "metadata": {},
     "output_type": "display_data"
    }
   ],
   "source": [
    "# let's evaluate our model \n",
    "# 1. scatter plot of predicted y-values versus y\n",
    "# plot should be along the diagonals, that indicates a good model \n",
    "# the close the plot to the diagonal the more accurate the predicted values. \n",
    "pred_y = model3.predict()\n",
    "plt.scatter(y, pred_y)\n",
    "plt.title(\"Residual vs birthweight Plot\")\n",
    "Max = y.max()\n",
    "Min = y.min()\n",
    "diag = np.arange(Min, Max, (Max-Min)/50)\n",
    "plt.scatter(diag, diag)\n",
    "plt.xlabel(\"Birthweight\")\n",
    "plt.ylabel(\"Predicted Birghweight\")\n",
    "plt.show()"
   ]
  },
  {
   "cell_type": "code",
   "execution_count": null,
   "metadata": {},
   "outputs": [],
   "source": []
  }
 ],
 "metadata": {
  "kernelspec": {
   "display_name": "Python 3",
   "language": "python",
   "name": "python3"
  },
  "language_info": {
   "codemirror_mode": {
    "name": "ipython",
    "version": 3
   },
   "file_extension": ".py",
   "mimetype": "text/x-python",
   "name": "python",
   "nbconvert_exporter": "python",
   "pygments_lexer": "ipython3",
   "version": "3.6.4"
  }
 },
 "nbformat": 4,
 "nbformat_minor": 2
}
