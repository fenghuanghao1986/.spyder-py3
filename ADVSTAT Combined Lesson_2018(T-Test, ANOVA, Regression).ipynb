{
 "cells": [
  {
   "cell_type": "markdown",
   "metadata": {},
   "source": [
    "# T-TEST, ANOVA TEST AND REGRESSION ANALYSIS"
   ]
  },
  {
   "cell_type": "code",
   "execution_count": 701,
   "metadata": {},
   "outputs": [],
   "source": [
    "import pandas as pd\n",
    "import numpy as np\n",
    "import matplotlib.pyplot as plt"
   ]
  },
  {
   "cell_type": "code",
   "execution_count": 702,
   "metadata": {},
   "outputs": [
    {
     "data": {
      "text/html": [
       "<div>\n",
       "<style scoped>\n",
       "    .dataframe tbody tr th:only-of-type {\n",
       "        vertical-align: middle;\n",
       "    }\n",
       "\n",
       "    .dataframe tbody tr th {\n",
       "        vertical-align: top;\n",
       "    }\n",
       "\n",
       "    .dataframe thead th {\n",
       "        text-align: right;\n",
       "    }\n",
       "</style>\n",
       "<table border=\"1\" class=\"dataframe\">\n",
       "  <thead>\n",
       "    <tr style=\"text-align: right;\">\n",
       "      <th></th>\n",
       "      <th>Unnamed: 0</th>\n",
       "      <th>rank</th>\n",
       "      <th>discipline</th>\n",
       "      <th>yrs.since.phd</th>\n",
       "      <th>yrs.service</th>\n",
       "      <th>sex</th>\n",
       "      <th>salary</th>\n",
       "    </tr>\n",
       "  </thead>\n",
       "  <tbody>\n",
       "    <tr>\n",
       "      <th>0</th>\n",
       "      <td>1</td>\n",
       "      <td>Prof</td>\n",
       "      <td>B</td>\n",
       "      <td>19</td>\n",
       "      <td>18</td>\n",
       "      <td>Male</td>\n",
       "      <td>139750</td>\n",
       "    </tr>\n",
       "    <tr>\n",
       "      <th>1</th>\n",
       "      <td>2</td>\n",
       "      <td>Prof</td>\n",
       "      <td>B</td>\n",
       "      <td>20</td>\n",
       "      <td>16</td>\n",
       "      <td>Male</td>\n",
       "      <td>173200</td>\n",
       "    </tr>\n",
       "    <tr>\n",
       "      <th>2</th>\n",
       "      <td>3</td>\n",
       "      <td>AsstProf</td>\n",
       "      <td>B</td>\n",
       "      <td>4</td>\n",
       "      <td>3</td>\n",
       "      <td>Male</td>\n",
       "      <td>79750</td>\n",
       "    </tr>\n",
       "    <tr>\n",
       "      <th>3</th>\n",
       "      <td>4</td>\n",
       "      <td>Prof</td>\n",
       "      <td>B</td>\n",
       "      <td>45</td>\n",
       "      <td>39</td>\n",
       "      <td>Male</td>\n",
       "      <td>115000</td>\n",
       "    </tr>\n",
       "    <tr>\n",
       "      <th>4</th>\n",
       "      <td>5</td>\n",
       "      <td>Prof</td>\n",
       "      <td>B</td>\n",
       "      <td>40</td>\n",
       "      <td>41</td>\n",
       "      <td>Male</td>\n",
       "      <td>141500</td>\n",
       "    </tr>\n",
       "    <tr>\n",
       "      <th>5</th>\n",
       "      <td>6</td>\n",
       "      <td>AssocProf</td>\n",
       "      <td>B</td>\n",
       "      <td>6</td>\n",
       "      <td>6</td>\n",
       "      <td>Male</td>\n",
       "      <td>97000</td>\n",
       "    </tr>\n",
       "    <tr>\n",
       "      <th>6</th>\n",
       "      <td>7</td>\n",
       "      <td>Prof</td>\n",
       "      <td>B</td>\n",
       "      <td>30</td>\n",
       "      <td>23</td>\n",
       "      <td>Male</td>\n",
       "      <td>175000</td>\n",
       "    </tr>\n",
       "    <tr>\n",
       "      <th>7</th>\n",
       "      <td>8</td>\n",
       "      <td>Prof</td>\n",
       "      <td>B</td>\n",
       "      <td>45</td>\n",
       "      <td>45</td>\n",
       "      <td>Male</td>\n",
       "      <td>147765</td>\n",
       "    </tr>\n",
       "    <tr>\n",
       "      <th>8</th>\n",
       "      <td>9</td>\n",
       "      <td>Prof</td>\n",
       "      <td>B</td>\n",
       "      <td>21</td>\n",
       "      <td>20</td>\n",
       "      <td>Male</td>\n",
       "      <td>119250</td>\n",
       "    </tr>\n",
       "    <tr>\n",
       "      <th>9</th>\n",
       "      <td>10</td>\n",
       "      <td>Prof</td>\n",
       "      <td>B</td>\n",
       "      <td>18</td>\n",
       "      <td>18</td>\n",
       "      <td>Female</td>\n",
       "      <td>129000</td>\n",
       "    </tr>\n",
       "  </tbody>\n",
       "</table>\n",
       "</div>"
      ],
      "text/plain": [
       "   Unnamed: 0       rank discipline  yrs.since.phd  yrs.service     sex  \\\n",
       "0           1       Prof          B             19           18    Male   \n",
       "1           2       Prof          B             20           16    Male   \n",
       "2           3   AsstProf          B              4            3    Male   \n",
       "3           4       Prof          B             45           39    Male   \n",
       "4           5       Prof          B             40           41    Male   \n",
       "5           6  AssocProf          B              6            6    Male   \n",
       "6           7       Prof          B             30           23    Male   \n",
       "7           8       Prof          B             45           45    Male   \n",
       "8           9       Prof          B             21           20    Male   \n",
       "9          10       Prof          B             18           18  Female   \n",
       "\n",
       "   salary  \n",
       "0  139750  \n",
       "1  173200  \n",
       "2   79750  \n",
       "3  115000  \n",
       "4  141500  \n",
       "5   97000  \n",
       "6  175000  \n",
       "7  147765  \n",
       "8  119250  \n",
       "9  129000  "
      ]
     },
     "execution_count": 702,
     "metadata": {},
     "output_type": "execute_result"
    }
   ],
   "source": [
    "# documentation with description of data: \n",
    "# https://vincentarelbundock.github.io/Rdatasets/doc/car/Salaries.html\n",
    "url = r\"https://vincentarelbundock.github.io/Rdatasets/csv/car/Salaries.csv\"\n",
    "data = pd.read_csv(url) \n",
    "data.head(10)"
   ]
  },
  {
   "cell_type": "code",
   "execution_count": 703,
   "metadata": {},
   "outputs": [
    {
     "name": "stdout",
     "output_type": "stream",
     "text": [
      "['Prof' 'AsstProf' 'AssocProf']\n",
      "['B' 'A']\n",
      "['Male' 'Female']\n",
      "[18 16  3 39 41  6 23 45 20  8  2  1  0 34 36 26 31 30 19  4  9 21 27 38\n",
      " 15 28 25 11  5 12 17 14 37  7 10 29 32 22 49 57 24 53 33 40 35 43 44 48\n",
      " 46 51 13 60]\n"
     ]
    }
   ],
   "source": [
    "print(data[\"rank\"].unique()),\n",
    "print(data[\"discipline\"].unique())\n",
    "print(data[\"sex\"].unique())\n",
    "print(data[\"yrs.service\"].unique())"
   ]
  },
  {
   "cell_type": "code",
   "execution_count": 704,
   "metadata": {},
   "outputs": [],
   "source": [
    "data.drop(\"Unnamed: 0\", axis = \"columns\", inplace=True)"
   ]
  },
  {
   "cell_type": "code",
   "execution_count": 705,
   "metadata": {
    "scrolled": true
   },
   "outputs": [
    {
     "data": {
      "text/html": [
       "<div>\n",
       "<style scoped>\n",
       "    .dataframe tbody tr th:only-of-type {\n",
       "        vertical-align: middle;\n",
       "    }\n",
       "\n",
       "    .dataframe tbody tr th {\n",
       "        vertical-align: top;\n",
       "    }\n",
       "\n",
       "    .dataframe thead th {\n",
       "        text-align: right;\n",
       "    }\n",
       "</style>\n",
       "<table border=\"1\" class=\"dataframe\">\n",
       "  <thead>\n",
       "    <tr style=\"text-align: right;\">\n",
       "      <th></th>\n",
       "      <th>rank</th>\n",
       "      <th>discipline</th>\n",
       "      <th>yrs.since.phd</th>\n",
       "      <th>yrs.service</th>\n",
       "      <th>sex</th>\n",
       "      <th>salary</th>\n",
       "    </tr>\n",
       "  </thead>\n",
       "  <tbody>\n",
       "    <tr>\n",
       "      <th>0</th>\n",
       "      <td>Prof</td>\n",
       "      <td>B</td>\n",
       "      <td>19</td>\n",
       "      <td>18</td>\n",
       "      <td>Male</td>\n",
       "      <td>139750</td>\n",
       "    </tr>\n",
       "    <tr>\n",
       "      <th>1</th>\n",
       "      <td>Prof</td>\n",
       "      <td>B</td>\n",
       "      <td>20</td>\n",
       "      <td>16</td>\n",
       "      <td>Male</td>\n",
       "      <td>173200</td>\n",
       "    </tr>\n",
       "    <tr>\n",
       "      <th>2</th>\n",
       "      <td>AsstProf</td>\n",
       "      <td>B</td>\n",
       "      <td>4</td>\n",
       "      <td>3</td>\n",
       "      <td>Male</td>\n",
       "      <td>79750</td>\n",
       "    </tr>\n",
       "    <tr>\n",
       "      <th>3</th>\n",
       "      <td>Prof</td>\n",
       "      <td>B</td>\n",
       "      <td>45</td>\n",
       "      <td>39</td>\n",
       "      <td>Male</td>\n",
       "      <td>115000</td>\n",
       "    </tr>\n",
       "    <tr>\n",
       "      <th>4</th>\n",
       "      <td>Prof</td>\n",
       "      <td>B</td>\n",
       "      <td>40</td>\n",
       "      <td>41</td>\n",
       "      <td>Male</td>\n",
       "      <td>141500</td>\n",
       "    </tr>\n",
       "  </tbody>\n",
       "</table>\n",
       "</div>"
      ],
      "text/plain": [
       "       rank discipline  yrs.since.phd  yrs.service   sex  salary\n",
       "0      Prof          B             19           18  Male  139750\n",
       "1      Prof          B             20           16  Male  173200\n",
       "2  AsstProf          B              4            3  Male   79750\n",
       "3      Prof          B             45           39  Male  115000\n",
       "4      Prof          B             40           41  Male  141500"
      ]
     },
     "execution_count": 705,
     "metadata": {},
     "output_type": "execute_result"
    }
   ],
   "source": [
    "data.head()"
   ]
  },
  {
   "cell_type": "code",
   "execution_count": 706,
   "metadata": {
    "scrolled": false
   },
   "outputs": [
    {
     "data": {
      "text/html": [
       "<div>\n",
       "<style scoped>\n",
       "    .dataframe tbody tr th:only-of-type {\n",
       "        vertical-align: middle;\n",
       "    }\n",
       "\n",
       "    .dataframe tbody tr th {\n",
       "        vertical-align: top;\n",
       "    }\n",
       "\n",
       "    .dataframe thead th {\n",
       "        text-align: right;\n",
       "    }\n",
       "</style>\n",
       "<table border=\"1\" class=\"dataframe\">\n",
       "  <thead>\n",
       "    <tr style=\"text-align: right;\">\n",
       "      <th></th>\n",
       "      <th>rank</th>\n",
       "      <th>discipline</th>\n",
       "      <th>yrs_since_phd</th>\n",
       "      <th>yrs_service</th>\n",
       "      <th>gender</th>\n",
       "      <th>salary</th>\n",
       "    </tr>\n",
       "  </thead>\n",
       "  <tbody>\n",
       "    <tr>\n",
       "      <th>0</th>\n",
       "      <td>Prof</td>\n",
       "      <td>B</td>\n",
       "      <td>19</td>\n",
       "      <td>18</td>\n",
       "      <td>Male</td>\n",
       "      <td>139750</td>\n",
       "    </tr>\n",
       "    <tr>\n",
       "      <th>1</th>\n",
       "      <td>Prof</td>\n",
       "      <td>B</td>\n",
       "      <td>20</td>\n",
       "      <td>16</td>\n",
       "      <td>Male</td>\n",
       "      <td>173200</td>\n",
       "    </tr>\n",
       "    <tr>\n",
       "      <th>2</th>\n",
       "      <td>AsstProf</td>\n",
       "      <td>B</td>\n",
       "      <td>4</td>\n",
       "      <td>3</td>\n",
       "      <td>Male</td>\n",
       "      <td>79750</td>\n",
       "    </tr>\n",
       "    <tr>\n",
       "      <th>3</th>\n",
       "      <td>Prof</td>\n",
       "      <td>B</td>\n",
       "      <td>45</td>\n",
       "      <td>39</td>\n",
       "      <td>Male</td>\n",
       "      <td>115000</td>\n",
       "    </tr>\n",
       "    <tr>\n",
       "      <th>4</th>\n",
       "      <td>Prof</td>\n",
       "      <td>B</td>\n",
       "      <td>40</td>\n",
       "      <td>41</td>\n",
       "      <td>Male</td>\n",
       "      <td>141500</td>\n",
       "    </tr>\n",
       "  </tbody>\n",
       "</table>\n",
       "</div>"
      ],
      "text/plain": [
       "       rank discipline  yrs_since_phd  yrs_service gender  salary\n",
       "0      Prof          B             19           18   Male  139750\n",
       "1      Prof          B             20           16   Male  173200\n",
       "2  AsstProf          B              4            3   Male   79750\n",
       "3      Prof          B             45           39   Male  115000\n",
       "4      Prof          B             40           41   Male  141500"
      ]
     },
     "execution_count": 706,
     "metadata": {},
     "output_type": "execute_result"
    }
   ],
   "source": [
    "# rename the columns: columns with dots will be problematic for certain analyses \n",
    "data.rename({\"yrs.since.phd\":\"yrs_since_phd\", \"yrs.service\":\"yrs_service\", \"sex\":\"gender\"}, axis=\"columns\", inplace=True)\n",
    "data.head()"
   ]
  },
  {
   "cell_type": "code",
   "execution_count": 707,
   "metadata": {
    "scrolled": false
   },
   "outputs": [
    {
     "data": {
      "text/html": [
       "<div>\n",
       "<style scoped>\n",
       "    .dataframe tbody tr th:only-of-type {\n",
       "        vertical-align: middle;\n",
       "    }\n",
       "\n",
       "    .dataframe tbody tr th {\n",
       "        vertical-align: top;\n",
       "    }\n",
       "\n",
       "    .dataframe thead th {\n",
       "        text-align: right;\n",
       "    }\n",
       "</style>\n",
       "<table border=\"1\" class=\"dataframe\">\n",
       "  <thead>\n",
       "    <tr style=\"text-align: right;\">\n",
       "      <th></th>\n",
       "      <th>yrs_since_phd</th>\n",
       "      <th>yrs_service</th>\n",
       "      <th>salary</th>\n",
       "    </tr>\n",
       "  </thead>\n",
       "  <tbody>\n",
       "    <tr>\n",
       "      <th>count</th>\n",
       "      <td>397.000000</td>\n",
       "      <td>397.000000</td>\n",
       "      <td>397.000000</td>\n",
       "    </tr>\n",
       "    <tr>\n",
       "      <th>mean</th>\n",
       "      <td>22.314861</td>\n",
       "      <td>17.614610</td>\n",
       "      <td>113706.458438</td>\n",
       "    </tr>\n",
       "    <tr>\n",
       "      <th>std</th>\n",
       "      <td>12.887003</td>\n",
       "      <td>13.006024</td>\n",
       "      <td>30289.038695</td>\n",
       "    </tr>\n",
       "    <tr>\n",
       "      <th>min</th>\n",
       "      <td>1.000000</td>\n",
       "      <td>0.000000</td>\n",
       "      <td>57800.000000</td>\n",
       "    </tr>\n",
       "    <tr>\n",
       "      <th>25%</th>\n",
       "      <td>12.000000</td>\n",
       "      <td>7.000000</td>\n",
       "      <td>91000.000000</td>\n",
       "    </tr>\n",
       "    <tr>\n",
       "      <th>50%</th>\n",
       "      <td>21.000000</td>\n",
       "      <td>16.000000</td>\n",
       "      <td>107300.000000</td>\n",
       "    </tr>\n",
       "    <tr>\n",
       "      <th>75%</th>\n",
       "      <td>32.000000</td>\n",
       "      <td>27.000000</td>\n",
       "      <td>134185.000000</td>\n",
       "    </tr>\n",
       "    <tr>\n",
       "      <th>max</th>\n",
       "      <td>56.000000</td>\n",
       "      <td>60.000000</td>\n",
       "      <td>231545.000000</td>\n",
       "    </tr>\n",
       "  </tbody>\n",
       "</table>\n",
       "</div>"
      ],
      "text/plain": [
       "       yrs_since_phd  yrs_service         salary\n",
       "count     397.000000   397.000000     397.000000\n",
       "mean       22.314861    17.614610  113706.458438\n",
       "std        12.887003    13.006024   30289.038695\n",
       "min         1.000000     0.000000   57800.000000\n",
       "25%        12.000000     7.000000   91000.000000\n",
       "50%        21.000000    16.000000  107300.000000\n",
       "75%        32.000000    27.000000  134185.000000\n",
       "max        56.000000    60.000000  231545.000000"
      ]
     },
     "execution_count": 707,
     "metadata": {},
     "output_type": "execute_result"
    }
   ],
   "source": [
    "# descriptive statistics \n",
    "data.describe()"
   ]
  },
  {
   "cell_type": "code",
   "execution_count": 708,
   "metadata": {},
   "outputs": [
    {
     "data": {
      "text/html": [
       "<div>\n",
       "<style scoped>\n",
       "    .dataframe tbody tr th:only-of-type {\n",
       "        vertical-align: middle;\n",
       "    }\n",
       "\n",
       "    .dataframe tbody tr th {\n",
       "        vertical-align: top;\n",
       "    }\n",
       "\n",
       "    .dataframe thead th {\n",
       "        text-align: right;\n",
       "    }\n",
       "</style>\n",
       "<table border=\"1\" class=\"dataframe\">\n",
       "  <thead>\n",
       "    <tr style=\"text-align: right;\">\n",
       "      <th></th>\n",
       "      <th>yrs_since_phd</th>\n",
       "      <th>yrs_service</th>\n",
       "      <th>salary</th>\n",
       "    </tr>\n",
       "  </thead>\n",
       "  <tbody>\n",
       "    <tr>\n",
       "      <th>mean</th>\n",
       "      <td>22.31</td>\n",
       "      <td>17.61</td>\n",
       "      <td>113706.46</td>\n",
       "    </tr>\n",
       "    <tr>\n",
       "      <th>median</th>\n",
       "      <td>21.00</td>\n",
       "      <td>16.00</td>\n",
       "      <td>107300.00</td>\n",
       "    </tr>\n",
       "    <tr>\n",
       "      <th>std</th>\n",
       "      <td>12.89</td>\n",
       "      <td>13.01</td>\n",
       "      <td>30289.04</td>\n",
       "    </tr>\n",
       "    <tr>\n",
       "      <th>min</th>\n",
       "      <td>1.00</td>\n",
       "      <td>0.00</td>\n",
       "      <td>57800.00</td>\n",
       "    </tr>\n",
       "    <tr>\n",
       "      <th>max</th>\n",
       "      <td>56.00</td>\n",
       "      <td>60.00</td>\n",
       "      <td>231545.00</td>\n",
       "    </tr>\n",
       "    <tr>\n",
       "      <th>skew</th>\n",
       "      <td>0.30</td>\n",
       "      <td>0.65</td>\n",
       "      <td>0.71</td>\n",
       "    </tr>\n",
       "  </tbody>\n",
       "</table>\n",
       "</div>"
      ],
      "text/plain": [
       "        yrs_since_phd  yrs_service     salary\n",
       "mean            22.31        17.61  113706.46\n",
       "median          21.00        16.00  107300.00\n",
       "std             12.89        13.01   30289.04\n",
       "min              1.00         0.00   57800.00\n",
       "max             56.00        60.00  231545.00\n",
       "skew             0.30         0.65       0.71"
      ]
     },
     "execution_count": 708,
     "metadata": {},
     "output_type": "execute_result"
    }
   ],
   "source": [
    "# descriptive statistic for quantitative variables \n",
    "data.iloc[:,[2,3,5]].apply([\"mean\", \"median\", \"std\", \"min\",\"max\", \"skew\"]).round(2)"
   ]
  },
  {
   "cell_type": "markdown",
   "metadata": {},
   "source": [
    "# T-TEST"
   ]
  },
  {
   "cell_type": "markdown",
   "metadata": {},
   "source": [
    "### Research Question: Is there a significant difference between male and female faculty salaries?"
   ]
  },
  {
   "cell_type": "code",
   "execution_count": 709,
   "metadata": {},
   "outputs": [],
   "source": [
    "# let's extract the salary for male and female faculty\n",
    "maleSalary = data.salary[data.gender==\"Male\"]\n",
    "femaleSalary = data.salary[data.gender==\"Female\"]"
   ]
  },
  {
   "cell_type": "code",
   "execution_count": 710,
   "metadata": {},
   "outputs": [
    {
     "data": {
      "text/html": [
       "<div>\n",
       "<style scoped>\n",
       "    .dataframe tbody tr th:only-of-type {\n",
       "        vertical-align: middle;\n",
       "    }\n",
       "\n",
       "    .dataframe tbody tr th {\n",
       "        vertical-align: top;\n",
       "    }\n",
       "\n",
       "    .dataframe thead th {\n",
       "        text-align: right;\n",
       "    }\n",
       "</style>\n",
       "<table border=\"1\" class=\"dataframe\">\n",
       "  <thead>\n",
       "    <tr style=\"text-align: right;\">\n",
       "      <th></th>\n",
       "      <th>salary</th>\n",
       "    </tr>\n",
       "    <tr>\n",
       "      <th>gender</th>\n",
       "      <th></th>\n",
       "    </tr>\n",
       "  </thead>\n",
       "  <tbody>\n",
       "    <tr>\n",
       "      <th>Female</th>\n",
       "      <td>101002.410256</td>\n",
       "    </tr>\n",
       "    <tr>\n",
       "      <th>Male</th>\n",
       "      <td>115090.418994</td>\n",
       "    </tr>\n",
       "  </tbody>\n",
       "</table>\n",
       "</div>"
      ],
      "text/plain": [
       "               salary\n",
       "gender               \n",
       "Female  101002.410256\n",
       "Male    115090.418994"
      ]
     },
     "execution_count": 710,
     "metadata": {},
     "output_type": "execute_result"
    }
   ],
   "source": [
    "# let's compute the mean of salary for male and female faculty\n",
    "data[[\"salary\", \"gender\"]].groupby(\"gender\").mean()"
   ]
  },
  {
   "cell_type": "code",
   "execution_count": 711,
   "metadata": {},
   "outputs": [],
   "source": [
    "# we want to compare male and female salary using a t-test, \n",
    "# we need to make sure assumptions of t-test are met\n",
    "# that is, the assumption of independence, normality and homogoneity of variance\n",
    "# the assumption of independence of error is usually assumed met \n",
    "# so we will test for normality and homogeneity of variance \n",
    "# we will test for normality using a histogram and boxplot to check distribution and outliers \n",
    "# we can use a Bartlett test or Levene test to test for homogeneity of variance"
   ]
  },
  {
   "cell_type": "code",
   "execution_count": 712,
   "metadata": {},
   "outputs": [
    {
     "data": {
      "image/png": "[encoded data removed]",
      "text/plain": [
       "<matplotlib.figure.Figure at 0x241aee7e5c0>"
      ]
     },
     "metadata": {},
     "output_type": "display_data"
    },
    {
     "data": {
      "image/png": "[encoded data removed]",
      "text/plain": [
       "<matplotlib.figure.Figure at 0x241aee7e978>"
      ]
     },
     "metadata": {},
     "output_type": "display_data"
    }
   ],
   "source": [
    "#let visualize the distribution of male and female salary with a histogram\n",
    "plt.hist(maleSalary, bins = 30)\n",
    "plt.title(\"Histogram of Male Salary\")\n",
    "plt.xlabel(\"Salary\")\n",
    "plt.ylabel(\"Frequency\")\n",
    "plt.show()\n",
    "\n",
    "plt.hist(femaleSalary, bins = 30)\n",
    "plt.title(\"Histogram of Female Salary\")\n",
    "plt.xlabel(\"Salary\")\n",
    "plt.ylabel(\"Frequency\")\n",
    "plt.show()"
   ]
  },
  {
   "cell_type": "code",
   "execution_count": 713,
   "metadata": {},
   "outputs": [
    {
     "data": {
      "image/png": "[encoded data removed]",
      "text/plain": [
       "<matplotlib.figure.Figure at 0x241aee7e6a0>"
      ]
     },
     "metadata": {},
     "output_type": "display_data"
    }
   ],
   "source": [
    "# alternative way to plot histograms using regular pandas hist\n",
    "data[[\"salary\", \"gender\"]].hist(by=\"gender\", bins=20)\n",
    "plt.show()"
   ]
  },
  {
   "cell_type": "code",
   "execution_count": 714,
   "metadata": {},
   "outputs": [
    {
     "data": {
      "image/png": "[encoded data removed]",
      "text/plain": [
       "<matplotlib.figure.Figure at 0x241b2be0c18>"
      ]
     },
     "metadata": {},
     "output_type": "display_data"
    }
   ],
   "source": [
    "# let's use a boxplot to visualize the distribution of male and female salaries \n",
    "data[[\"salary\", \"gender\"]].boxplot(by=\"gender\", fontsize=14) # regular pandas boxplot \n",
    "plt.suptitle(\"\")\n",
    "plt.title(\"A boxplot of male and female salary\")\n",
    "plt.show()"
   ]
  },
  {
   "cell_type": "code",
   "execution_count": 715,
   "metadata": {},
   "outputs": [
    {
     "data": {
      "image/png": "[encoded data removed]",
      "text/plain": [
       "<matplotlib.figure.Figure at 0x241b2c0a8d0>"
      ]
     },
     "metadata": {},
     "output_type": "display_data"
    }
   ],
   "source": [
    "# Another way to create a boxplot with pandas boxplot\n",
    "data.boxplot(\"salary\", by=\"gender\", figsize = (8, 6))\n",
    "plt.show()"
   ]
  },
  {
   "cell_type": "code",
   "execution_count": 716,
   "metadata": {},
   "outputs": [
    {
     "data": {
      "image/png": "[encoded data removed]",
      "text/plain": [
       "<matplotlib.figure.Figure at 0x241af2a2fd0>"
      ]
     },
     "metadata": {},
     "output_type": "display_data"
    }
   ],
   "source": [
    "# An alternative way to construct a box plot using matplotlib \n",
    "y = femaleSalary.values, maleSalary.values, \n",
    "plt.boxplot(y)\n",
    "plt.title(\"A Boxplot of Male and Female Salaries\")\n",
    "plt.ylabel(\"Salary\")\n",
    "plt.xticks([1,2], [\"Male\", \"Female\"])\n",
    "# plt.xticks(np.arange(len(y))+1, [\"Male\", \"Female\"] )\n",
    "plt.show()"
   ]
  },
  {
   "cell_type": "code",
   "execution_count": 717,
   "metadata": {},
   "outputs": [
    {
     "name": "stdout",
     "output_type": "stream",
     "text": [
      "This is a hypothesis test for the homogeneity of variance assumption\n",
      "H0:The variances of male and female faculty salaries are equal\n",
      "test statistics: 0.8400820216384142\n",
      "pvalue: 0.35993255760111553\n",
      "Decision: Fail to reject the null hypothesis\n",
      "Conclusion: The variances of male and female faculty salaries are equal\n",
      "Proceed to perform a t-test\n"
     ]
    }
   ],
   "source": [
    "# let's do Levene's test to test for homogeneity of variance assumption\n",
    "\n",
    "from scipy import stats\n",
    "# see documentation: https://docs.scipy.org/doc/scipy-0.14.0/reference/generated/scipy.stats.levene.html\n",
    "\n",
    "teststats_Var, pvalue_Var = stats.levene(maleSalary, femaleSalary)\n",
    "print(\"This is a hypothesis test for the homogeneity of variance assumption\")\n",
    "print(\"H0:The variances of male and female faculty salaries are equal\")\n",
    "print (f\"test statistics: {teststats_Var}\")\n",
    "print(f\"pvalue: {pvalue_Var}\")\n",
    "\n",
    "alpha = 0.05\n",
    "if pvalue_Var > alpha:\n",
    "    print(\"Decision: Fail to reject the null hypothesis\")\n",
    "    print(\"Conclusion: The variances of male and female faculty salaries are equal\")\n",
    "    print(\"Proceed to perform a t-test\")\n",
    "else:\n",
    "    print(\"Decision: Reject the null hypothesis\")\n",
    "    print(\"Conclusion: The variances of male and female faculty salaries are unequal\")\n",
    "    print(\"Proceed to do a Welch's test since variances are unequal\")"
   ]
  },
  {
   "cell_type": "code",
   "execution_count": 718,
   "metadata": {},
   "outputs": [
    {
     "name": "stdout",
     "output_type": "stream",
     "text": [
      "This is a hypothesis test for homogeneity of variances\n",
      "The variances of male and female faculty salaries are equal\n",
      "test statistics: 1.5885368627800647\n",
      "pvalue: 0.20753529990727493\n",
      "Decision: Fail to reject the null hypothesis\n",
      "Conclusion: The variances of male and female faculty salaries are equal\n",
      "Proceed to perform a t-test\n"
     ]
    }
   ],
   "source": [
    "# alternatively, let's test for homogeneity of variance with Bartlett test \n",
    "teststats_Var, pvalue_Var = stats.bartlett(maleSalary, femaleSalary)\n",
    "print(\"This is a hypothesis test for homogeneity of variances\")\n",
    "print(\"The variances of male and female faculty salaries are equal\")\n",
    "print (f\"test statistics: {teststats_Var}\")\n",
    "print(f\"pvalue: {pvalue_Var}\")\n",
    "\n",
    "alpha = 0.05\n",
    "if pvalue_Var > alpha:\n",
    "    print(\"Decision: Fail to reject the null hypothesis\")\n",
    "    print(\"Conclusion: The variances of male and female faculty salaries are equal\")\n",
    "    print(\"Proceed to perform a t-test\")\n",
    "else:\n",
    "    print(\"Decision: Reject the null hypothesis\")\n",
    "    print(\"Conclusion: The variances of male and female faculty salary are unequal\")\n",
    "    print(\"Proceed to do a Welch's test since variances are unequal\")"
   ]
  },
  {
   "cell_type": "code",
   "execution_count": 719,
   "metadata": {},
   "outputs": [
    {
     "name": "stdout",
     "output_type": "stream",
     "text": [
      "T Test: This is a hypothesis test for means of male and female faculty salary\n",
      "H0: Means of male and female faculaty salaries are equal\n",
      "test statistics (t): 2.781674064262432\n",
      "pvalue: 0.005667106519338681\n",
      "Decision: Reject the null hypothesis\n",
      "Conclusion: Means of male and female faculaty salaries are unequal\n"
     ]
    }
   ],
   "source": [
    "# now, let's proceed to perform a t-test\n",
    "teststats_Mean, pvalue_Mean= stats.ttest_ind(maleSalary, femaleSalary, equal_var=True)\n",
    "\n",
    "print(\"T Test: This is a hypothesis test for means of male and female faculty salary\")\n",
    "print(\"H0: Means of male and female faculaty salaries are equal\")\n",
    "print (f\"test statistics (t): {teststats_Mean}\")\n",
    "print(f\"pvalue: {pvalue_Mean}\")\n",
    "\n",
    "alpha = 0.05\n",
    "if pvalue_Mean > alpha:\n",
    "    print(\"Decision: Fail to reject the null hypothesis\")\n",
    "    print(\"Conclusion: Means of male and female faculaty salaries are equal\")\n",
    "else:\n",
    "    print(\"Decision: Reject the null hypothesis\")\n",
    "    print(\"Conclusion: Means of male and female faculaty salaries are unequal\")"
   ]
  },
  {
   "cell_type": "code",
   "execution_count": 720,
   "metadata": {},
   "outputs": [
    {
     "name": "stdout",
     "output_type": "stream",
     "text": [
      "t test statistics: 2.781674064262432\n",
      "pvalue: 0.005667106519338681\n"
     ]
    }
   ],
   "source": [
    "# An alternative t-test using a statmodels package\n",
    "\n",
    "from statsmodels.stats.weightstats import CompareMeans\n",
    "from statsmodels.stats.weightstats import DescrStatsW\n",
    "desMaleSalary = DescrStatsW(maleSalary)\n",
    "desFemaleSalary = DescrStatsW(femaleSalary)\n",
    "teststat, pvalue, df = CompareMeans(desMaleSalary, desFemaleSalary).ttest_ind(alternative=\"two-sided\", usevar=\"pooled\")\n",
    "print (f\"t test statistics: {teststat}\")\n",
    "print(f\"pvalue: {pvalue}\")"
   ]
  },
  {
   "cell_type": "code",
   "execution_count": null,
   "metadata": {},
   "outputs": [],
   "source": []
  },
  {
   "cell_type": "markdown",
   "metadata": {},
   "source": [
    "# ANOVA TEST"
   ]
  },
  {
   "cell_type": "markdown",
   "metadata": {},
   "source": [
    "#### Research Question: Is there a significant salary difference between professors, Assistant Professors and Associate Professors?"
   ]
  },
  {
   "cell_type": "code",
   "execution_count": 721,
   "metadata": {},
   "outputs": [
    {
     "data": {
      "text/plain": [
       "array(['Prof', 'AsstProf', 'AssocProf'], dtype=object)"
      ]
     },
     "execution_count": 721,
     "metadata": {},
     "output_type": "execute_result"
    }
   ],
   "source": [
    "# let's view the unique values contained by the rank variable\n",
    "data[\"rank\"].unique()"
   ]
  },
  {
   "cell_type": "code",
   "execution_count": 722,
   "metadata": {},
   "outputs": [],
   "source": [
    "# let's extract salaries for various faculty ranks \n",
    "ProfSalary = data[\"salary\"][data[\"rank\"]==\"Prof\"]\n",
    "AsstProfSalary = data[\"salary\"][data[\"rank\"]==\"AsstProf\"]\n",
    "AssocProfSalary = data[\"salary\"][data[\"rank\"]==\"AssocProf\"]"
   ]
  },
  {
   "cell_type": "code",
   "execution_count": 723,
   "metadata": {},
   "outputs": [
    {
     "data": {
      "image/png": "[encoded data removed]",
      "text/plain": [
       "<matplotlib.figure.Figure at 0x241b2b58b70>"
      ]
     },
     "metadata": {},
     "output_type": "display_data"
    },
    {
     "data": {
      "image/png": "[encoded data removed]",
      "text/plain": [
       "<matplotlib.figure.Figure at 0x241b2b58da0>"
      ]
     },
     "metadata": {},
     "output_type": "display_data"
    },
    {
     "data": {
      "image/png": "[encoded data removed]",
      "text/plain": [
       "<matplotlib.figure.Figure at 0x241b14815c0>"
      ]
     },
     "metadata": {},
     "output_type": "display_data"
    }
   ],
   "source": [
    "#let visualize the distribution of faculty salary by rank\n",
    "plt.hist(ProfSalary, bins = 30)\n",
    "plt.title(\"Histogram of Professor Salary\")\n",
    "plt.xlabel(\"Salary\")\n",
    "plt.ylabel(\"Frequency\")\n",
    "plt.show()\n",
    "\n",
    "plt.hist(AsstProfSalary, bins = 30)\n",
    "plt.title(\"Histogram of Assistant Professor Salary\")\n",
    "plt.xlabel(\"Salary\")\n",
    "plt.ylabel(\"Frequency\")\n",
    "plt.show()\n",
    "\n",
    "plt.hist(AssocProfSalary, bins = 30)\n",
    "plt.title(\"Associate Professor Salary\")\n",
    "plt.xlabel(\"Salary\")\n",
    "plt.ylabel(\"Frequency\")\n",
    "plt.show()"
   ]
  },
  {
   "cell_type": "code",
   "execution_count": 724,
   "metadata": {},
   "outputs": [
    {
     "data": {
      "text/html": [
       "<div>\n",
       "<style scoped>\n",
       "    .dataframe tbody tr th:only-of-type {\n",
       "        vertical-align: middle;\n",
       "    }\n",
       "\n",
       "    .dataframe tbody tr th {\n",
       "        vertical-align: top;\n",
       "    }\n",
       "\n",
       "    .dataframe thead tr th {\n",
       "        text-align: left;\n",
       "    }\n",
       "\n",
       "    .dataframe thead tr:last-of-type th {\n",
       "        text-align: right;\n",
       "    }\n",
       "</style>\n",
       "<table border=\"1\" class=\"dataframe\">\n",
       "  <thead>\n",
       "    <tr>\n",
       "      <th></th>\n",
       "      <th colspan=\"7\" halign=\"left\">salary</th>\n",
       "    </tr>\n",
       "    <tr>\n",
       "      <th></th>\n",
       "      <th>count</th>\n",
       "      <th>mean</th>\n",
       "      <th>median</th>\n",
       "      <th>std</th>\n",
       "      <th>min</th>\n",
       "      <th>max</th>\n",
       "      <th>skew</th>\n",
       "    </tr>\n",
       "    <tr>\n",
       "      <th>rank</th>\n",
       "      <th></th>\n",
       "      <th></th>\n",
       "      <th></th>\n",
       "      <th></th>\n",
       "      <th></th>\n",
       "      <th></th>\n",
       "      <th></th>\n",
       "    </tr>\n",
       "  </thead>\n",
       "  <tbody>\n",
       "    <tr>\n",
       "      <th>AssocProf</th>\n",
       "      <td>64</td>\n",
       "      <td>93876.44</td>\n",
       "      <td>95626.5</td>\n",
       "      <td>13831.70</td>\n",
       "      <td>62884</td>\n",
       "      <td>126431</td>\n",
       "      <td>-0.09</td>\n",
       "    </tr>\n",
       "    <tr>\n",
       "      <th>AsstProf</th>\n",
       "      <td>67</td>\n",
       "      <td>80775.99</td>\n",
       "      <td>79800.0</td>\n",
       "      <td>8174.11</td>\n",
       "      <td>63100</td>\n",
       "      <td>97032</td>\n",
       "      <td>0.08</td>\n",
       "    </tr>\n",
       "    <tr>\n",
       "      <th>Prof</th>\n",
       "      <td>266</td>\n",
       "      <td>126772.11</td>\n",
       "      <td>123321.5</td>\n",
       "      <td>27718.67</td>\n",
       "      <td>57800</td>\n",
       "      <td>231545</td>\n",
       "      <td>0.59</td>\n",
       "    </tr>\n",
       "  </tbody>\n",
       "</table>\n",
       "</div>"
      ],
      "text/plain": [
       "          salary                                                    \n",
       "           count       mean    median       std    min     max  skew\n",
       "rank                                                                \n",
       "AssocProf     64   93876.44   95626.5  13831.70  62884  126431 -0.09\n",
       "AsstProf      67   80775.99   79800.0   8174.11  63100   97032  0.08\n",
       "Prof         266  126772.11  123321.5  27718.67  57800  231545  0.59"
      ]
     },
     "execution_count": 724,
     "metadata": {},
     "output_type": "execute_result"
    }
   ],
   "source": [
    "# let's compute the descritives of faculty salary by rank \n",
    "data[[\"salary\", \"rank\"]].groupby(\"rank\").agg([\"count\", \"mean\", \"median\", \"std\",\"min\", \"max\",\"skew\"]).round(2)"
   ]
  },
  {
   "cell_type": "code",
   "execution_count": 725,
   "metadata": {},
   "outputs": [
    {
     "data": {
      "image/png": "[encoded data removed]",
      "text/plain": [
       "<matplotlib.figure.Figure at 0x241b1324da0>"
      ]
     },
     "metadata": {},
     "output_type": "display_data"
    }
   ],
   "source": [
    "# let's visualize the distribution of faculty salary distribution by rank using a boxplot\n",
    "\n",
    "y = ProfSalary.values, AsstProfSalary.values, AssocProfSalary.values \n",
    "plt.boxplot(y)\n",
    "plt.title(\"A Boxplot of Faculty Salaries by Rank\")\n",
    "plt.ylabel(\"Salary\")\n",
    "plt.xticks(np.arange(len(y))+1, [\"Prof\", \"AsstProf\", \"AssocProf\"] )\n",
    "plt.show()"
   ]
  },
  {
   "cell_type": "code",
   "execution_count": 726,
   "metadata": {},
   "outputs": [
    {
     "name": "stdout",
     "output_type": "stream",
     "text": [
      "This is a hypothesis test for the homogeneity of variance assumption\n",
      "H0: variances of Prof, AsstProf and AssocProf salaries are equal variances\n",
      "test statistics (F): 38.711118112709656\n",
      "pvalue: 4.476856382324779e-16\n",
      "Decision: Reject the null hypothesis\n",
      "Conclusion: At least the variance of one professor rank differs with respect to salary\n",
      "Still proceed to perform ANOVA test since the F-test is robust to the homogeneity of variance assumption\n"
     ]
    }
   ],
   "source": [
    "# let's perform a test of homogeneity of variance \n",
    "teststats_Var, pvalue_Var = stats.levene(ProfSalary.values, AsstProfSalary.values, AssocProfSalary.values)\n",
    "\n",
    "print(\"This is a hypothesis test for the homogeneity of variance assumption\")\n",
    "print(\"H0: variances of Prof, AsstProf and AssocProf salaries are equal variances\")\n",
    "print (f\"test statistics (F): {teststats_Var}\")\n",
    "print(f\"pvalue: {pvalue_Var}\")\n",
    "\n",
    "alpha = 0.05\n",
    "if pvalue_Var > alpha:\n",
    "    print(\"Decision: Fail to reject the null hypothesis\")\n",
    "    print(\"Conclusion: The variances of Prof, AsstProf and AssocProf salaries are equal\")\n",
    "    print(\"Proceed to perform an ANOVA test\")\n",
    "else:\n",
    "    print(\"Decision: Reject the null hypothesis\")\n",
    "    print(\"Conclusion: At least the variance of one professor rank differs with respect to salary\")\n",
    "    print(\"Still proceed to perform ANOVA test since the F-test is robust to the homogeneity of variance assumption\")"
   ]
  },
  {
   "cell_type": "code",
   "execution_count": 727,
   "metadata": {},
   "outputs": [
    {
     "name": "stdout",
     "output_type": "stream",
     "text": [
      "One-Way ANOVA: This is a hypothesis test for means of faculty salary by rank \n",
      "H0: The means of Prof, AsstProf and AssocProf salaries are equal\n",
      "test statistics (F): 38.711118112709656\n",
      "pvalue: 4.476856382324779e-16\n",
      "Decision: Reject the null hypothesis\n",
      "Conclusion: The mean salary of at least one professor rank is different\n",
      "proceed with a follow-up or post hoc test to find which groups are different\n"
     ]
    }
   ],
   "source": [
    "teststats_Mean, pvalue_Mean = stats.f_oneway(ProfSalary.values, AsstProfSalary.values, AssocProfSalary.values)\n",
    "\n",
    "print(\"One-Way ANOVA: This is a hypothesis test for means of faculty salary by rank \")\n",
    "print(\"H0: The means of Prof, AsstProf and AssocProf salaries are equal\")\n",
    "print (f\"test statistics (F): {teststats_Var}\")\n",
    "print(f\"pvalue: {pvalue_Var}\")\n",
    "\n",
    "alpha = 0.05\n",
    "if pvalue_Var > alpha:\n",
    "    print(\"Decision: Fail to reject the null hypothesis\")\n",
    "    print(\"Conclusion: The means of Prof, AsstProf and AssocProf salaries are equal\")\n",
    "else:\n",
    "    print(\"Decision: Reject the null hypothesis\")\n",
    "    print(\"Conclusion: The mean salary of at least one professor rank is different\")\n",
    "    print(\"proceed with a follow-up or post hoc test to find which groups are different\")\n"
   ]
  },
  {
   "cell_type": "code",
   "execution_count": 728,
   "metadata": {},
   "outputs": [
    {
     "name": "stdout",
     "output_type": "stream",
     "text": [
      "             df        sum_sq       mean_sq           F        PR(>F)\n",
      "rank        2.0  1.432318e+11  7.161588e+10  128.217394  1.293048e-43\n",
      "Residual  394.0  2.200689e+11  5.585504e+08         NaN           NaN\n"
     ]
    }
   ],
   "source": [
    "# An alternative One-way ANOVA test using a statmodels package\n",
    "# you will need to run this code if a warning occurs: np.warnings.filterwarnings('ignore') \n",
    "import statsmodels.api as sm\n",
    "from statsmodels.formula.api import ols\n",
    "model = ols(\"salary ~ rank\", data=data).fit()\n",
    "aov_table = sm.stats.anova_lm(model, type=2)\n",
    "print(aov_table)\n"
   ]
  },
  {
   "cell_type": "code",
   "execution_count": 729,
   "metadata": {},
   "outputs": [
    {
     "name": "stdout",
     "output_type": "stream",
     "text": [
      "Ho: The group means are equal\n",
      "     Multiple Comparison of Means - Tukey HSD,FWER=0.05     \n",
      "============================================================\n",
      "  group1   group2    meandiff     lower      upper    reject\n",
      "------------------------------------------------------------\n",
      "AssocProf AsstProf -13100.4524 -22819.1231 -3381.7818  True \n",
      "AssocProf   Prof    32895.6715  25154.1777 40637.1653  True \n",
      " AsstProf   Prof    45996.1239  38395.618  53596.6299  True \n",
      "------------------------------------------------------------\n"
     ]
    }
   ],
   "source": [
    "from statsmodels.stats.multicomp import pairwise_tukeyhsd\n",
    "from statsmodels.stats.multicomp import pairwise_tukeyhsd\n",
    "# endogenous=response or dependent variable\n",
    "\n",
    "tukey = pairwise_tukeyhsd(endog=data[\"salary\"], groups=data['rank'], alpha=0.05)\n",
    "print('Ho: The group means are equal')\n",
    "print(tukey.summary())"
   ]
  },
  {
   "cell_type": "markdown",
   "metadata": {},
   "source": [
    "Results of multiple group comparison test show that the mean of each groups is signifi different from the means of the other groups "
   ]
  },
  {
   "cell_type": "code",
   "execution_count": 730,
   "metadata": {},
   "outputs": [
    {
     "data": {
      "image/png": "[encoded data removed]",
      "text/plain": [
       "<matplotlib.figure.Figure at 0x241b13325f8>"
      ]
     },
     "metadata": {},
     "output_type": "display_data"
    }
   ],
   "source": [
    "# Now, let's visualize the means of the groups compared with the tukey test\n",
    "tukey.plot_simultaneous() # tukey is the object where the tukey test results were stored\n",
    "#the above code plots the group confidence intervals\n",
    "\n",
    "plt.vlines(x=data[\"salary\"].mean(),ymin=-1,ymax=3,color=\"red\") \n",
    "#The above code includes a line representing the mean of all faculty salary \n",
    "plt.show() "
   ]
  },
  {
   "cell_type": "markdown",
   "metadata": {},
   "source": [
    "# Simple Linear Regression Analysis"
   ]
  },
  {
   "cell_type": "code",
   "execution_count": 731,
   "metadata": {},
   "outputs": [],
   "source": [
    "#lets now find out if there is a significant relationship between years of service and salary\n",
    "# a simple linear regression can be analysed with a scipy package\n",
    "\n",
    "from scipy.stats import stats\n",
    "\n",
    "#use the code: stats.linregress(x,y)"
   ]
  },
  {
   "cell_type": "code",
   "execution_count": 732,
   "metadata": {},
   "outputs": [
    {
     "data": {
      "text/plain": [
       "LinregressResult(slope=779.569113694737, intercept=99974.65286632923, rvalue=0.3347446756998621, pvalue=7.528739019469755e-12, stderr=110.41693214331899)"
      ]
     },
     "execution_count": 732,
     "metadata": {},
     "output_type": "execute_result"
    }
   ],
   "source": [
    "x = data[\"yrs_service\"]\n",
    "y = data[\"salary\"]\n",
    "Results = stats.linregress(x,y)\n",
    "Results "
   ]
  },
  {
   "cell_type": "code",
   "execution_count": 733,
   "metadata": {},
   "outputs": [],
   "source": [
    "# store the results in seperate objects for later use\n",
    "slope=Results[0]\n",
    "intercept = Results[1]\n",
    "rsquared = Results[2]*2\n",
    "pvalue = Results[3]\n",
    "SE = Results[4]"
   ]
  },
  {
   "cell_type": "code",
   "execution_count": 734,
   "metadata": {
    "scrolled": true
   },
   "outputs": [
    {
     "name": "stdout",
     "output_type": "stream",
     "text": [
      "779.569113694737\n",
      "99974.65286632923\n",
      "0.6694893513997242\n"
     ]
    }
   ],
   "source": [
    "print(slope)\n",
    "print(intercept)\n",
    "print(rsquared)"
   ]
  },
  {
   "cell_type": "code",
   "execution_count": 735,
   "metadata": {},
   "outputs": [
    {
     "name": "stdout",
     "output_type": "stream",
     "text": [
      "slope: 779.569113694737\n",
      "intercept: 99974.65286632923\n",
      "rsquared: 0.3347446756998621\n"
     ]
    }
   ],
   "source": [
    "# you can use: dir(Results) to see what methods to use to extract parameters from Results \n",
    "print (f\"slope: {Results.slope}\")\n",
    "print(f\"intercept: {Results.intercept}\")\n",
    "print(f\"rsquared: {Results.rvalue}\")"
   ]
  },
  {
   "cell_type": "code",
   "execution_count": 736,
   "metadata": {},
   "outputs": [
    {
     "data": {
      "image/png": "[encoded data removed]",
      "text/plain": [
       "<matplotlib.figure.Figure at 0x241b2c55ac8>"
      ]
     },
     "metadata": {},
     "output_type": "display_data"
    }
   ],
   "source": [
    "#let's plot the regression line\n",
    "plt.figure(figsize=(10,5))\n",
    "pred_y = intercept + slope*x\n",
    "plt.scatter(x, y)\n",
    "plt.plot(x, pred_y, color=\"r\")\n",
    "plt.suptitle(\"Relationship Between Years of Service and Faculty Salary\", fontsize=18)\n",
    "plt.title(f\"y={round(intercept,2)} + {round(slope, 2)}*x\")\n",
    "plt.xlabel(\"Years of Service\", fontsize=14)\n",
    "plt.ylabel(\"Salary\", fontsize=14)\n",
    "plt.show()"
   ]
  },
  {
   "cell_type": "code",
   "execution_count": 737,
   "metadata": {},
   "outputs": [],
   "source": [
    "# you can also use the stats model for a regression analysis \n",
    "from statsmodels.formula.api import ols\n",
    "#model = ols(\"y~x\", data=df).fit()\n",
    "#model.summary()"
   ]
  },
  {
   "cell_type": "code",
   "execution_count": 738,
   "metadata": {},
   "outputs": [
    {
     "name": "stdout",
     "output_type": "stream",
     "text": [
      "                            OLS Regression Results                            \n",
      "==============================================================================\n",
      "Dep. Variable:                      y   R-squared:                       0.112\n",
      "Model:                            OLS   Adj. R-squared:                  0.110\n",
      "Method:                 Least Squares   F-statistic:                     49.85\n",
      "Date:                Tue, 29 May 2018   Prob (F-statistic):           7.53e-12\n",
      "Time:                        14:43:18   Log-Likelihood:                -4635.7\n",
      "No. Observations:                 397   AIC:                             9275.\n",
      "Df Residuals:                     395   BIC:                             9283.\n",
      "Df Model:                           1                                         \n",
      "Covariance Type:            nonrobust                                         \n",
      "==============================================================================\n",
      "                 coef    std err          t      P>|t|      [0.025      0.975]\n",
      "------------------------------------------------------------------------------\n",
      "Intercept   9.997e+04   2416.605     41.370      0.000    9.52e+04    1.05e+05\n",
      "x            779.5691    110.417      7.060      0.000     562.491     996.647\n",
      "==============================================================================\n",
      "Omnibus:                       25.187   Durbin-Watson:                   1.843\n",
      "Prob(Omnibus):                  0.000   Jarque-Bera (JB):               28.656\n",
      "Skew:                           0.593   Prob(JB):                     5.99e-07\n",
      "Kurtosis:                       3.570   Cond. No.                         36.9\n",
      "==============================================================================\n",
      "\n",
      "Warnings:\n",
      "[1] Standard Errors assume that the covariance matrix of the errors is correctly specified.\n"
     ]
    }
   ],
   "source": [
    "x = data[\"yrs_service\"]\n",
    "y = data[\"salary\"]\n",
    "\n",
    "model = ols(\"y ~ x\", data=data).fit()\n",
    "print(model.summary())"
   ]
  },
  {
   "cell_type": "code",
   "execution_count": 739,
   "metadata": {
    "scrolled": true
   },
   "outputs": [
    {
     "data": {
      "text/plain": [
       "Intercept    99974.652866\n",
       "x              779.569114\n",
       "dtype: float64"
      ]
     },
     "execution_count": 739,
     "metadata": {},
     "output_type": "execute_result"
    }
   ],
   "source": [
    "#output intercept and slope\n",
    "model.params"
   ]
  },
  {
   "cell_type": "code",
   "execution_count": 740,
   "metadata": {},
   "outputs": [
    {
     "name": "stdout",
     "output_type": "stream",
     "text": [
      "99974.65\n",
      "779.57\n"
     ]
    }
   ],
   "source": [
    "# store intercept and slope in seperate objects\n",
    "intercept = round(model.params[0],2)\n",
    "slope = round(model.params[1],2)\n",
    "print(intercept)\n",
    "print(slope)"
   ]
  },
  {
   "cell_type": "code",
   "execution_count": 741,
   "metadata": {},
   "outputs": [
    {
     "data": {
      "text/plain": [
       "0.11205399790940596"
      ]
     },
     "execution_count": 741,
     "metadata": {},
     "output_type": "execute_result"
    }
   ],
   "source": [
    "# extract rsquared, used to evaluate model fit. \n",
    "# low rsquared implies poor model fit\n",
    "rsquared = model.rsquared\n",
    "rsquared"
   ]
  },
  {
   "cell_type": "code",
   "execution_count": 742,
   "metadata": {
    "scrolled": true
   },
   "outputs": [
    {
     "data": {
      "text/plain": [
       "0.10980603334715122"
      ]
     },
     "execution_count": 742,
     "metadata": {},
     "output_type": "execute_result"
    }
   ],
   "source": [
    "# to extract adjusted rsquared\n",
    "model.rsquared_adj"
   ]
  },
  {
   "cell_type": "code",
   "execution_count": 743,
   "metadata": {
    "scrolled": true
   },
   "outputs": [
    {
     "data": {
      "text/plain": [
       "Intercept    1.186078e-145\n",
       "x             7.528739e-12\n",
       "dtype: float64"
      ]
     },
     "execution_count": 743,
     "metadata": {},
     "output_type": "execute_result"
    }
   ],
   "source": [
    "# extract pvalues of intercept and slopes to see if these parameters are significant\n",
    "pvalue = model.pvalues\n",
    "pvalue"
   ]
  },
  {
   "cell_type": "code",
   "execution_count": 744,
   "metadata": {},
   "outputs": [
    {
     "data": {
      "text/plain": [
       "49.84687027139687"
      ]
     },
     "execution_count": 744,
     "metadata": {},
     "output_type": "execute_result"
    }
   ],
   "source": [
    "# extract f-statistics \n",
    "F = model.fvalue\n",
    "F"
   ]
  },
  {
   "cell_type": "code",
   "execution_count": 745,
   "metadata": {},
   "outputs": [
    {
     "data": {
      "text/plain": [
       "7.528739019470033e-12"
      ]
     },
     "execution_count": 745,
     "metadata": {},
     "output_type": "execute_result"
    }
   ],
   "source": [
    "# extract pvalue of f statistics \n",
    "# compare this value to an alpha of 0.05 to tell if there is an overall relationship between x-variables and y\n",
    "pvalue_F = model.f_pvalue\n",
    "pvalue_F"
   ]
  },
  {
   "cell_type": "code",
   "execution_count": 746,
   "metadata": {},
   "outputs": [
    {
     "data": {
      "text/plain": [
       "array([114006.89691283, 112447.75868545, 102313.36020741, 130377.84830042,\n",
       "       131936.98652781, 104652.0675485 , 117904.74248131, 135055.26298259,\n",
       "       115566.03514022, 114006.89691283, 106211.20577589, 101533.79109372,\n",
       "       100754.22198002,  99974.65286633, 114006.89691283, 102313.36020741,\n",
       "       115566.03514022, 126480.00273195, 117904.74248131, 128039.14095934])"
      ]
     },
     "execution_count": 746,
     "metadata": {},
     "output_type": "execute_result"
    }
   ],
   "source": [
    "pred_y = model.predict()\n",
    "pred_y[0:20] # to view just the first 20"
   ]
  },
  {
   "cell_type": "code",
   "execution_count": 747,
   "metadata": {},
   "outputs": [
    {
     "data": {
      "text/plain": [
       "0    25743.103087\n",
       "1    60752.241315\n",
       "2   -22563.360207\n",
       "3   -15377.848300\n",
       "4     9563.013472\n",
       "dtype: float64"
      ]
     },
     "execution_count": 747,
     "metadata": {},
     "output_type": "execute_result"
    }
   ],
   "source": [
    "# extract residuals or error associated with predicting y values\n",
    "resid = model.resid\n",
    "resid[0:5] # to view just the first 5 residuals"
   ]
  },
  {
   "cell_type": "code",
   "execution_count": 748,
   "metadata": {},
   "outputs": [
    {
     "data": {
      "image/png": "[encoded data removed]",
      "text/plain": [
       "<matplotlib.figure.Figure at 0x241af097240>"
      ]
     },
     "metadata": {},
     "output_type": "display_data"
    }
   ],
   "source": [
    "# let's visualize the relationship\n",
    "x = data[\"yrs_service\"]\n",
    "y = data[\"salary\"]\n",
    "\n",
    "plt.scatter(x, y)\n",
    "plt.plot(x, pred_y, color = \"red\")\n",
    "plt.suptitle(\"Relationship Between Years of Service and Faculty Salary\", fontsize=18, y=1.1)\n",
    "plt.title(f\"y={round(intercept,2)} + {round(slope, 2)}*x\")\n",
    "plt.xlabel(\"Years of Service\", fontsize=14)\n",
    "plt.ylabel(\"Salary\", fontsize=14)\n",
    "plt.show()"
   ]
  },
  {
   "cell_type": "code",
   "execution_count": 749,
   "metadata": {},
   "outputs": [
    {
     "data": {
      "image/png": "[encoded data removed]",
      "text/plain": [
       "<matplotlib.figure.Figure at 0x241b118ef60>"
      ]
     },
     "metadata": {},
     "output_type": "display_data"
    }
   ],
   "source": [
    "# let's evaluate our model \n",
    "# 1. scatter plot of x-values vs residuals\n",
    "x = data[\"yrs_service\"]\n",
    "resid = model.resid\n",
    "plt.scatter(x, resid)\n",
    "plt.hlines(0, 0, 60, color = \"red\")\n",
    "plt.title(\"Residual vs Years of Service Plot\")\n",
    "plt.xlabel(\"Years of Service\")\n",
    "plt.ylabel(\"Residuals\")\n",
    "plt.show()"
   ]
  },
  {
   "cell_type": "code",
   "execution_count": 750,
   "metadata": {},
   "outputs": [
    {
     "data": {
      "image/png": "[encoded data removed]",
      "text/plain": [
       "<matplotlib.figure.Figure at 0x241b13f5080>"
      ]
     },
     "metadata": {},
     "output_type": "display_data"
    }
   ],
   "source": [
    "# let's evaluate our model \n",
    "# 1. scatter plot of predicted y-values versus y\n",
    "# plot should be along the diagonals, that indicates a good model \n",
    "# the close the plot to the diagonal the more accurate the predicted values. \n",
    "y = data[\"salary\"]\n",
    "pred_y = model.predict()\n",
    "\n",
    "plt.scatter(y, pred_y)\n",
    "plt.title(\"Residual vs Salary Plot\")\n",
    "Max = y.max()\n",
    "Min = y.min()\n",
    "diag = np.arange(Min, Max, (Max-Min)/50)\n",
    "plt.scatter(diag, diag)\n",
    "plt.xlabel(\"Salary\")\n",
    "plt.ylabel(\"Predicted Salary\")\n",
    "plt.show()"
   ]
  },
  {
   "cell_type": "markdown",
   "metadata": {},
   "source": [
    "# Multiple Regression Analysis "
   ]
  },
  {
   "cell_type": "code",
   "execution_count": 751,
   "metadata": {},
   "outputs": [
    {
     "data": {
      "text/html": [
       "<div>\n",
       "<style scoped>\n",
       "    .dataframe tbody tr th:only-of-type {\n",
       "        vertical-align: middle;\n",
       "    }\n",
       "\n",
       "    .dataframe tbody tr th {\n",
       "        vertical-align: top;\n",
       "    }\n",
       "\n",
       "    .dataframe thead th {\n",
       "        text-align: right;\n",
       "    }\n",
       "</style>\n",
       "<table border=\"1\" class=\"dataframe\">\n",
       "  <thead>\n",
       "    <tr style=\"text-align: right;\">\n",
       "      <th></th>\n",
       "      <th>rank</th>\n",
       "      <th>discipline</th>\n",
       "      <th>yrs_since_phd</th>\n",
       "      <th>yrs_service</th>\n",
       "      <th>gender</th>\n",
       "      <th>salary</th>\n",
       "    </tr>\n",
       "  </thead>\n",
       "  <tbody>\n",
       "    <tr>\n",
       "      <th>0</th>\n",
       "      <td>Prof</td>\n",
       "      <td>B</td>\n",
       "      <td>19</td>\n",
       "      <td>18</td>\n",
       "      <td>Male</td>\n",
       "      <td>139750</td>\n",
       "    </tr>\n",
       "    <tr>\n",
       "      <th>1</th>\n",
       "      <td>Prof</td>\n",
       "      <td>B</td>\n",
       "      <td>20</td>\n",
       "      <td>16</td>\n",
       "      <td>Male</td>\n",
       "      <td>173200</td>\n",
       "    </tr>\n",
       "    <tr>\n",
       "      <th>2</th>\n",
       "      <td>AsstProf</td>\n",
       "      <td>B</td>\n",
       "      <td>4</td>\n",
       "      <td>3</td>\n",
       "      <td>Male</td>\n",
       "      <td>79750</td>\n",
       "    </tr>\n",
       "    <tr>\n",
       "      <th>3</th>\n",
       "      <td>Prof</td>\n",
       "      <td>B</td>\n",
       "      <td>45</td>\n",
       "      <td>39</td>\n",
       "      <td>Male</td>\n",
       "      <td>115000</td>\n",
       "    </tr>\n",
       "    <tr>\n",
       "      <th>4</th>\n",
       "      <td>Prof</td>\n",
       "      <td>B</td>\n",
       "      <td>40</td>\n",
       "      <td>41</td>\n",
       "      <td>Male</td>\n",
       "      <td>141500</td>\n",
       "    </tr>\n",
       "  </tbody>\n",
       "</table>\n",
       "</div>"
      ],
      "text/plain": [
       "       rank discipline  yrs_since_phd  yrs_service gender  salary\n",
       "0      Prof          B             19           18   Male  139750\n",
       "1      Prof          B             20           16   Male  173200\n",
       "2  AsstProf          B              4            3   Male   79750\n",
       "3      Prof          B             45           39   Male  115000\n",
       "4      Prof          B             40           41   Male  141500"
      ]
     },
     "execution_count": 751,
     "metadata": {},
     "output_type": "execute_result"
    }
   ],
   "source": [
    "data.head()"
   ]
  },
  {
   "cell_type": "code",
   "execution_count": 752,
   "metadata": {},
   "outputs": [
    {
     "name": "stdout",
     "output_type": "stream",
     "text": [
      "                            OLS Regression Results                            \n",
      "==============================================================================\n",
      "Dep. Variable:                      y   R-squared:                       0.188\n",
      "Model:                            OLS   Adj. R-squared:                  0.184\n",
      "Method:                 Least Squares   F-statistic:                     45.71\n",
      "Date:                Tue, 29 May 2018   Prob (F-statistic):           1.40e-18\n",
      "Time:                        14:43:20   Log-Likelihood:                -4617.9\n",
      "No. Observations:                 397   AIC:                             9242.\n",
      "Df Residuals:                     394   BIC:                             9254.\n",
      "Df Model:                           2                                         \n",
      "Covariance Type:            nonrobust                                         \n",
      "==============================================================================\n",
      "                 coef    std err          t      P>|t|      [0.025      0.975]\n",
      "------------------------------------------------------------------------------\n",
      "Intercept   8.991e+04   2843.560     31.620      0.000    8.43e+04    9.55e+04\n",
      "x[0]        -629.1014    254.469     -2.472      0.014   -1129.389    -128.814\n",
      "x[1]        1562.8889    256.820      6.086      0.000    1057.981    2067.797\n",
      "==============================================================================\n",
      "Omnibus:                       14.927   Durbin-Watson:                   1.867\n",
      "Prob(Omnibus):                  0.001   Jarque-Bera (JB):               15.947\n",
      "Skew:                           0.429   Prob(JB):                     0.000344\n",
      "Kurtosis:                       3.478   Cond. No.                         69.6\n",
      "==============================================================================\n",
      "\n",
      "Warnings:\n",
      "[1] Standard Errors assume that the covariance matrix of the errors is correctly specified.\n"
     ]
    }
   ],
   "source": [
    "from statsmodels.formula.api import ols\n",
    "x = data[[\"yrs_service\", \"yrs_since_phd\"]]\n",
    "y = data[\"salary\"]\n",
    "\n",
    "model1 = ols(\"y ~ x\", data=data).fit()\n",
    "print(model1.summary())"
   ]
  },
  {
   "cell_type": "code",
   "execution_count": 753,
   "metadata": {},
   "outputs": [
    {
     "data": {
      "text/plain": [
       "Intercept    89912.184464\n",
       "x[0]          -629.101389\n",
       "x[1]          1562.888902\n",
       "dtype: float64"
      ]
     },
     "execution_count": 753,
     "metadata": {},
     "output_type": "execute_result"
    }
   ],
   "source": [
    "model1.params"
   ]
  },
  {
   "cell_type": "code",
   "execution_count": 754,
   "metadata": {},
   "outputs": [
    {
     "data": {
      "text/plain": [
       "Intercept    3.810703e-110\n",
       "x[0]          1.384961e-02\n",
       "x[1]          2.753560e-09\n",
       "dtype: float64"
      ]
     },
     "execution_count": 754,
     "metadata": {},
     "output_type": "execute_result"
    }
   ],
   "source": [
    "model1.pvalues"
   ]
  },
  {
   "cell_type": "code",
   "execution_count": 755,
   "metadata": {},
   "outputs": [
    {
     "data": {
      "text/plain": [
       "0.11205399790940596"
      ]
     },
     "execution_count": 755,
     "metadata": {},
     "output_type": "execute_result"
    }
   ],
   "source": [
    "model.rsquared"
   ]
  },
  {
   "cell_type": "code",
   "execution_count": 756,
   "metadata": {},
   "outputs": [],
   "source": [
    "# to include categorical variables in the prediction model, \n",
    "# we need to make sure the levels of the categories are coded with numbers. \n",
    "# let's create code discipline and gender and include them as independent variable for prediction\n",
    "\n",
    "data1 = data.copy()"
   ]
  },
  {
   "cell_type": "code",
   "execution_count": 757,
   "metadata": {},
   "outputs": [
    {
     "data": {
      "text/html": [
       "<div>\n",
       "<style scoped>\n",
       "    .dataframe tbody tr th:only-of-type {\n",
       "        vertical-align: middle;\n",
       "    }\n",
       "\n",
       "    .dataframe tbody tr th {\n",
       "        vertical-align: top;\n",
       "    }\n",
       "\n",
       "    .dataframe thead th {\n",
       "        text-align: right;\n",
       "    }\n",
       "</style>\n",
       "<table border=\"1\" class=\"dataframe\">\n",
       "  <thead>\n",
       "    <tr style=\"text-align: right;\">\n",
       "      <th></th>\n",
       "      <th>rank</th>\n",
       "      <th>discipline</th>\n",
       "      <th>yrs_since_phd</th>\n",
       "      <th>yrs_service</th>\n",
       "      <th>gender</th>\n",
       "      <th>salary</th>\n",
       "    </tr>\n",
       "  </thead>\n",
       "  <tbody>\n",
       "    <tr>\n",
       "      <th>0</th>\n",
       "      <td>Prof</td>\n",
       "      <td>B</td>\n",
       "      <td>19</td>\n",
       "      <td>18</td>\n",
       "      <td>Male</td>\n",
       "      <td>139750</td>\n",
       "    </tr>\n",
       "    <tr>\n",
       "      <th>1</th>\n",
       "      <td>Prof</td>\n",
       "      <td>B</td>\n",
       "      <td>20</td>\n",
       "      <td>16</td>\n",
       "      <td>Male</td>\n",
       "      <td>173200</td>\n",
       "    </tr>\n",
       "    <tr>\n",
       "      <th>2</th>\n",
       "      <td>AsstProf</td>\n",
       "      <td>B</td>\n",
       "      <td>4</td>\n",
       "      <td>3</td>\n",
       "      <td>Male</td>\n",
       "      <td>79750</td>\n",
       "    </tr>\n",
       "    <tr>\n",
       "      <th>3</th>\n",
       "      <td>Prof</td>\n",
       "      <td>B</td>\n",
       "      <td>45</td>\n",
       "      <td>39</td>\n",
       "      <td>Male</td>\n",
       "      <td>115000</td>\n",
       "    </tr>\n",
       "    <tr>\n",
       "      <th>4</th>\n",
       "      <td>Prof</td>\n",
       "      <td>B</td>\n",
       "      <td>40</td>\n",
       "      <td>41</td>\n",
       "      <td>Male</td>\n",
       "      <td>141500</td>\n",
       "    </tr>\n",
       "  </tbody>\n",
       "</table>\n",
       "</div>"
      ],
      "text/plain": [
       "       rank discipline  yrs_since_phd  yrs_service gender  salary\n",
       "0      Prof          B             19           18   Male  139750\n",
       "1      Prof          B             20           16   Male  173200\n",
       "2  AsstProf          B              4            3   Male   79750\n",
       "3      Prof          B             45           39   Male  115000\n",
       "4      Prof          B             40           41   Male  141500"
      ]
     },
     "execution_count": 757,
     "metadata": {},
     "output_type": "execute_result"
    }
   ],
   "source": [
    "data1.head()"
   ]
  },
  {
   "cell_type": "code",
   "execution_count": 758,
   "metadata": {},
   "outputs": [],
   "source": [
    "g = {\"Male\":0, \"Female\":1}\n",
    "d = {\"A\": 0, \"B\":1}\n",
    "data1[\"gender\"] =data1[\"gender\"].map(g)\n",
    "data1[\"discipline\"] = data1[\"discipline\"].map(d)"
   ]
  },
  {
   "cell_type": "code",
   "execution_count": 763,
   "metadata": {},
   "outputs": [
    {
     "name": "stdout",
     "output_type": "stream",
     "text": [
      "                            OLS Regression Results                            \n",
      "==============================================================================\n",
      "Dep. Variable:                      y   R-squared:                       0.263\n",
      "Model:                            OLS   Adj. R-squared:                  0.256\n",
      "Method:                 Least Squares   F-statistic:                     35.04\n",
      "Date:                Tue, 29 May 2018   Prob (F-statistic):           5.06e-25\n",
      "Time:                        14:45:10   Log-Likelihood:                -4598.6\n",
      "No. Observations:                 397   AIC:                             9207.\n",
      "Df Residuals:                     392   BIC:                             9227.\n",
      "Df Model:                           4                                         \n",
      "Covariance Type:            nonrobust                                         \n",
      "==============================================================================\n",
      "                 coef    std err          t      P>|t|      [0.025      0.975]\n",
      "------------------------------------------------------------------------------\n",
      "Intercept   7.887e+04   3494.758     22.568      0.000     7.2e+04    8.57e+04\n",
      "x[0]        -770.0999    244.106     -3.155      0.002   -1250.020    -290.179\n",
      "x[1]        1804.1452    248.867      7.249      0.000    1314.863    2293.427\n",
      "x[2]       -7545.3126   4462.598     -1.691      0.092   -1.63e+04    1228.307\n",
      "x[3]        1.633e+04   2708.903      6.027      0.000     1.1e+04    2.17e+04\n",
      "==============================================================================\n",
      "Omnibus:                       14.790   Durbin-Watson:                   2.040\n",
      "Prob(Omnibus):                  0.001   Jarque-Bera (JB):               16.288\n",
      "Skew:                           0.407   Prob(JB):                     0.000291\n",
      "Kurtosis:                       3.568   Cond. No.                         120.\n",
      "==============================================================================\n",
      "\n",
      "Warnings:\n",
      "[1] Standard Errors assume that the covariance matrix of the errors is correctly specified.\n"
     ]
    }
   ],
   "source": [
    "from statsmodels.formula.api import ols\n",
    "x = data1[[\"yrs_service\", \"yrs_since_phd\", \"gender\", \"discipline\"]]\n",
    "y = data1[\"salary\"]\n",
    "\n",
    "model1 = ols(\"y ~ x\", data=data1).fit()\n",
    "print(model1.summary())"
   ]
  },
  {
   "cell_type": "markdown",
   "metadata": {},
   "source": [
    "You can use backward elimination by including all variables in the prediction model. Then start elimininating variables whose parameters are not significant by comparing the p-values of the parameters to your alpha=0.05 or alpha=0.01. The p-values of significant parameters are smaller than alpha. Continue to eliminate variables one after another until all variables are significant. Keep track of adjusted r for each model. Compare all the models and find the model that has the best fit. You can also use forward propagation and build models by adding variables. Generally, models with higher r-squared are better models but if adjusted r-squared drops when a variable is added even though r-squared is better, this model did not improve so previous model should be better. Adjusted r-squared is used to evaluate if a model has improved when a variable is added to the model. \n",
    "If a model does not build on each you can use r-square to compare the models. The model with greater r-squared is better. "
   ]
  },
  {
   "cell_type": "code",
   "execution_count": null,
   "metadata": {},
   "outputs": [],
   "source": []
  }
 ],
 "metadata": {
  "kernelspec": {
   "display_name": "Python 3",
   "language": "python",
   "name": "python3"
  },
  "language_info": {
   "codemirror_mode": {
    "name": "ipython",
    "version": 3
   },
   "file_extension": ".py",
   "mimetype": "text/x-python",
   "name": "python",
   "nbconvert_exporter": "python",
   "pygments_lexer": "ipython3",
   "version": "3.6.4"
  }
 },
 "nbformat": 4,
 "nbformat_minor": 2
}
